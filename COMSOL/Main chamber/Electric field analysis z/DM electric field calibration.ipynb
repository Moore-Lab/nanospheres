{
 "cells": [
  {
   "cell_type": "code",
   "execution_count": 2,
   "metadata": {},
   "outputs": [],
   "source": [
    "import numpy as np\n",
    "import matplotlib.pyplot as plt\n",
    "import pandas as pd"
   ]
  },
  {
   "cell_type": "code",
   "execution_count": 11,
   "metadata": {},
   "outputs": [],
   "source": [
    "def extract_Efield(filename):\n",
    "    data = pd.read_csv(filename) \n",
    "    # Preview the first 5 lines of the loaded data \n",
    "    data.head()\n",
    "    pos = []\n",
    "    E = []\n",
    "    for i in range(8, len(data['% Model'])):\n",
    "        pos.append(float(data['% Model'][i]))\n",
    "        E.append(float(data['Chamber_classkit.mph'][i]))\n",
    "    return np.array(pos), np.array(E)"
   ]
  },
  {
   "cell_type": "markdown",
   "metadata": {},
   "source": [
    "Changes in lens position"
   ]
  },
  {
   "cell_type": "code",
   "execution_count": 16,
   "metadata": {},
   "outputs": [],
   "source": [
    "posx, Exx = extract_Efield('D:/Simulation Data/COMSOL/241213 - Main chamber/Correct position/Exx.csv')\n",
    "posy, Exy = extract_Efield('D:/Simulation Data/COMSOL/241213 - Main chamber/Correct position/Exy.csv')\n",
    "posz, Exz = extract_Efield('D:/Simulation Data/COMSOL/241213 - Main chamber/Correct position/Exz.csv')"
   ]
  },
  {
   "cell_type": "code",
   "execution_count": null,
   "metadata": {},
   "outputs": [
    {
     "data": {
      "text/plain": [
       "[<matplotlib.lines.Line2D at 0x2a1d2143c90>]"
      ]
     },
     "execution_count": 61,
     "metadata": {},
     "output_type": "execute_result"
    },
    {
     "data": {
      "image/png": "[encoded data removed]",
      "text/plain": [
       "<Figure size 640x480 with 1 Axes>"
      ]
     },
     "metadata": {},
     "output_type": "display_data"
    }
   ],
   "source": [
    "plt.plot(posx[(posx<0.0055) & (posx>0.0045)], Exx[(posx<0.0055) & (posx>0.0045)])#, Exx[0.0055>i>0.0045])\n",
    "plt.plot(posy[(posy<0.0055) & (posy>0.0045)], Exy[(posy<0.0055) & (posy>0.0045)])\n",
    "plt.plot(posz[(posz<0.0055) & (posz>0.0045)], Exz[(posz<0.0055) & (posz>0.0045)])"
   ]
  },
  {
   "cell_type": "code",
   "execution_count": 91,
   "metadata": {},
   "outputs": [
    {
     "data": {
      "text/plain": [
       "0.004790571857317929"
      ]
     },
     "execution_count": 91,
     "metadata": {},
     "output_type": "execute_result"
    }
   ],
   "source": [
    "posx[134]"
   ]
  },
  {
   "cell_type": "code",
   "execution_count": 100,
   "metadata": {},
   "outputs": [],
   "source": [
    "Ex_at_particlex = Exx[145]\n",
    "Ex_at_pos500umx = Exx[114]\n",
    "\n",
    "Ex_at_pos200umx = Exx[134]"
   ]
  },
  {
   "cell_type": "code",
   "execution_count": 101,
   "metadata": {},
   "outputs": [
    {
     "name": "stdout",
     "output_type": "stream",
     "text": [
      "-4.352585270219322\n",
      "-1.8600080201014748\n"
     ]
    }
   ],
   "source": [
    "print(Ex_at_particlex - Ex_at_pos500umx)\n",
    "print(Ex_at_particlex - Ex_at_pos200umx)"
   ]
  },
  {
   "cell_type": "code",
   "execution_count": 147,
   "metadata": {},
   "outputs": [
    {
     "data": {
      "text/plain": [
       "0.004816118800723881"
      ]
     },
     "execution_count": 147,
     "metadata": {},
     "output_type": "execute_result"
    }
   ],
   "source": [
    "posy[137]"
   ]
  },
  {
   "cell_type": "code",
   "execution_count": 148,
   "metadata": {},
   "outputs": [],
   "source": [
    "Ex_at_particley = Exy[149]\n",
    "Ex_at_pos75umy = Exy[145]\n",
    "Ex_at_pos200umy = Exy[137]"
   ]
  },
  {
   "cell_type": "code",
   "execution_count": 149,
   "metadata": {},
   "outputs": [
    {
     "name": "stdout",
     "output_type": "stream",
     "text": [
      "-0.15207502966200082\n",
      "-0.29500950344748844\n"
     ]
    }
   ],
   "source": [
    "print(Ex_at_particley - Ex_at_pos75umy)\n",
    "print(Ex_at_particley - Ex_at_pos200umy)"
   ]
  },
  {
   "cell_type": "code",
   "execution_count": 138,
   "metadata": {},
   "outputs": [
    {
     "data": {
      "text/plain": [
       "0.00480356853480468"
      ]
     },
     "execution_count": 138,
     "metadata": {},
     "output_type": "execute_result"
    }
   ],
   "source": [
    "posz[132]"
   ]
  },
  {
   "cell_type": "code",
   "execution_count": 140,
   "metadata": {},
   "outputs": [],
   "source": [
    "Ex_at_particlez = Exz[147]\n",
    "Ex_at_pos75umz = Exz[142]\n",
    "Ex_at_pos200umz = Exz[132]"
   ]
  },
  {
   "cell_type": "code",
   "execution_count": 141,
   "metadata": {},
   "outputs": [
    {
     "name": "stdout",
     "output_type": "stream",
     "text": [
      "0.0022594471301999874\n",
      "0.03151294072952737\n"
     ]
    }
   ],
   "source": [
    "print(Ex_at_particlez - Ex_at_pos75umz)\n",
    "print(Ex_at_particlez - Ex_at_pos200umz)"
   ]
  },
  {
   "cell_type": "markdown",
   "metadata": {},
   "source": [
    "Changes in holder positions"
   ]
  },
  {
   "cell_type": "code",
   "execution_count": 122,
   "metadata": {},
   "outputs": [],
   "source": [
    "posx_fa, Exx_fa = extract_Efield('D:/Simulation Data/COMSOL/241213 - Main chamber/1mm further away/Exx.csv')\n",
    "posy_fa, Exy_fa = extract_Efield('D:/Simulation Data/COMSOL/241213 - Main chamber/1mm further away/Exy.csv')\n",
    "posz_fa, Exz_fa = extract_Efield('D:/Simulation Data/COMSOL/241213 - Main chamber/1mm further away/Exz.csv')\n",
    "\n",
    "posx_c, Exx_c = extract_Efield('D:/Simulation Data/COMSOL/241213 - Main chamber/1mm closer/Exx.csv')\n",
    "posy_c, Exy_c = extract_Efield('D:/Simulation Data/COMSOL/241213 - Main chamber/1mm closer/Exy.csv')\n",
    "posz_c, Exz_c = extract_Efield('D:/Simulation Data/COMSOL/241213 - Main chamber/1mm closer/Exz.csv')\n",
    "\n",
    "posx_l, Exx_l = extract_Efield('D:/Simulation Data/COMSOL/241213 - Main chamber/1mm left/Exx.csv')\n",
    "posy_l, Exy_l = extract_Efield('D:/Simulation Data/COMSOL/241213 - Main chamber/1mm left/Exy.csv')\n",
    "posz_l, Exz_l = extract_Efield('D:/Simulation Data/COMSOL/241213 - Main chamber/1mm left/Exz.csv')\n",
    "\n",
    "posx_r, Exx_r = extract_Efield('D:/Simulation Data/COMSOL/241213 - Main chamber/1mm right/Exx.csv')\n",
    "posy_r, Exy_r = extract_Efield('D:/Simulation Data/COMSOL/241213 - Main chamber/1mm right/Exy.csv')\n",
    "posz_r, Exz_r = extract_Efield('D:/Simulation Data/COMSOL/241213 - Main chamber/1mm right/Exz.csv')"
   ]
  },
  {
   "cell_type": "code",
   "execution_count": 124,
   "metadata": {},
   "outputs": [
    {
     "data": {
      "text/plain": [
       "[<matplotlib.lines.Line2D at 0x2a1d16c0090>]"
      ]
     },
     "execution_count": 124,
     "metadata": {},
     "output_type": "execute_result"
    },
    {
     "data": {
      "image/png": "[encoded data removed]",
      "text/plain": [
       "<Figure size 640x480 with 1 Axes>"
      ]
     },
     "metadata": {},
     "output_type": "display_data"
    }
   ],
   "source": [
    "plt.plot(posx_fa[(posx_fa<0.0055) & (posx_fa>0.0045)], Exx_fa[(posx_fa<0.0055) & (posx_fa>0.0045)])#, Exx[0.0055>i>0.0045])\n",
    "plt.plot(posy_fa[(posy_fa<0.0055) & (posy_fa>0.0045)], Exy_fa[(posy_fa<0.0055) & (posy_fa>0.0045)])\n",
    "plt.plot(posz_fa[(posz_fa<0.0055) & (posz_fa>0.0045)], Exz_fa[(posz_fa<0.0055) & (posz_fa>0.0045)])\n",
    "\n",
    "plt.plot(posx[(posx<0.0055) & (posx>0.0045)], Exx[(posx<0.0055) & (posx>0.0045)])#, Exx[0.0055>i>0.0045])\n",
    "plt.plot(posy[(posy<0.0055) & (posy>0.0045)], Exy[(posy<0.0055) & (posy>0.0045)])\n",
    "plt.plot(posz[(posz<0.0055) & (posz>0.0045)], Exz[(posz<0.0055) & (posz>0.0045)])"
   ]
  },
  {
   "cell_type": "code",
   "execution_count": 131,
   "metadata": {},
   "outputs": [],
   "source": [
    "arg = np.argmin(abs(posx_fa-0.005))\n",
    "fa_E_at_particle = Exx_fa[arg]\n",
    "arg = np.argmin(abs(posx_c-0.005))\n",
    "c_E_at_particle = Exx_c[arg]\n",
    "arg = np.argmin(abs(posx_l-0.005))\n",
    "l_E_at_particle = Exx_l[arg]\n",
    "arg = np.argmin(abs(posx_r-0.005))\n",
    "r_E_at_particle = Exx_r[arg]"
   ]
  },
  {
   "cell_type": "code",
   "execution_count": 134,
   "metadata": {},
   "outputs": [
    {
     "name": "stdout",
     "output_type": "stream",
     "text": [
      "-7.156292293120771\n",
      "12.153295621190836\n",
      "2.2831105530130458\n",
      "2.206882908113613\n"
     ]
    }
   ],
   "source": [
    "print(Ex_at_particlex- fa_E_at_particle)\n",
    "print(Ex_at_particlex- c_E_at_particle)\n",
    "print(Ex_at_particlex- l_E_at_particle)\n",
    "print(Ex_at_particlex- r_E_at_particle)"
   ]
  },
  {
   "cell_type": "code",
   "execution_count": 150,
   "metadata": {},
   "outputs": [
    {
     "data": {
      "text/plain": [
       "12.3591909120298"
      ]
     },
     "execution_count": 150,
     "metadata": {},
     "output_type": "execute_result"
    }
   ],
   "source": [
    "np.sqrt(1.86**2+12**2+2.3**2)"
   ]
  },
  {
   "cell_type": "code",
   "execution_count": 151,
   "metadata": {},
   "outputs": [
    {
     "data": {
      "text/plain": [
       "0.09375"
      ]
     },
     "execution_count": 151,
     "metadata": {},
     "output_type": "execute_result"
    }
   ],
   "source": [
    "12/128"
   ]
  },
  {
   "cell_type": "code",
   "execution_count": null,
   "metadata": {},
   "outputs": [],
   "source": []
  }
 ],
 "metadata": {
  "kernelspec": {
   "display_name": "base",
   "language": "python",
   "name": "python3"
  },
  "language_info": {
   "codemirror_mode": {
    "name": "ipython",
    "version": 3
   },
   "file_extension": ".py",
   "mimetype": "text/x-python",
   "name": "python",
   "nbconvert_exporter": "python",
   "pygments_lexer": "ipython3",
   "version": "3.11.7"
  }
 },
 "nbformat": 4,
 "nbformat_minor": 2
}
