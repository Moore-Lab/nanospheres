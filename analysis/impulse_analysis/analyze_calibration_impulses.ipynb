{
 "cells": [
  {
   "cell_type": "code",
   "execution_count": 286,
   "metadata": {},
   "outputs": [],
   "source": [
    "import numpy as np\n",
    "import matplotlib.pyplot as plt\n",
    "import os, glob\n",
    "from scipy.io import loadmat\n",
    "import scipy.signal as sp\n",
    "import scipy.optimize as op\n",
    "import nanosphere_utils as ns\n",
    "import importlib"
   ]
  },
  {
   "cell_type": "code",
   "execution_count": 331,
   "metadata": {},
   "outputs": [],
   "source": [
    "data_path = '/Users/dcmoore/Desktop/nanosphere_data' #\"/Volumes/DATA/nanosphere_data\"\n",
    "\n",
    "data_folders = ['20240724_minus_one_e_data/20240724_50v_1_8e-8mbar',]"
   ]
  },
  {
   "cell_type": "code",
   "execution_count": 332,
   "metadata": {},
   "outputs": [],
   "source": [
    "combined_path = os.path.join(data_path, data_folders[0], '**/*.mat')\n",
    "data_files = glob.glob(combined_path, recursive=True)"
   ]
  },
  {
   "cell_type": "code",
   "execution_count": 333,
   "metadata": {},
   "outputs": [
    {
     "name": "stdout",
     "output_type": "stream",
     "text": [
      "['/Users/dcmoore/Desktop/nanosphere_data/20240724_minus_one_e_data/20240724_50v_1_8e-8mbar/20240724-0002/20240724-0002_4.mat', '/Users/dcmoore/Desktop/nanosphere_data/20240724_minus_one_e_data/20240724_50v_1_8e-8mbar/20240724-0002/20240724-0002_1.mat', '/Users/dcmoore/Desktop/nanosphere_data/20240724_minus_one_e_data/20240724_50v_1_8e-8mbar/20240724-0002/20240724-0002_3.mat', '/Users/dcmoore/Desktop/nanosphere_data/20240724_minus_one_e_data/20240724_50v_1_8e-8mbar/20240724-0002/20240724-0002_2.mat', '/Users/dcmoore/Desktop/nanosphere_data/20240724_minus_one_e_data/20240724_50v_1_8e-8mbar/20240724-0005/20240724-0005_3.mat', '/Users/dcmoore/Desktop/nanosphere_data/20240724_minus_one_e_data/20240724_50v_1_8e-8mbar/20240724-0005/20240724-0005_2.mat', '/Users/dcmoore/Desktop/nanosphere_data/20240724_minus_one_e_data/20240724_50v_1_8e-8mbar/20240724-0005/20240724-0005_1.mat', '/Users/dcmoore/Desktop/nanosphere_data/20240724_minus_one_e_data/20240724_50v_1_8e-8mbar/20240724-0005/20240724-0005_4.mat', '/Users/dcmoore/Desktop/nanosphere_data/20240724_minus_one_e_data/20240724_50v_1_8e-8mbar/20240724-0004/20240724-0004_1.mat', '/Users/dcmoore/Desktop/nanosphere_data/20240724_minus_one_e_data/20240724_50v_1_8e-8mbar/20240724-0004/20240724-0004_3.mat', '/Users/dcmoore/Desktop/nanosphere_data/20240724_minus_one_e_data/20240724_50v_1_8e-8mbar/20240724-0004/20240724-0004_2.mat', '/Users/dcmoore/Desktop/nanosphere_data/20240724_minus_one_e_data/20240724_50v_1_8e-8mbar/20240724-0004/20240724-0004_4.mat', '/Users/dcmoore/Desktop/nanosphere_data/20240724_minus_one_e_data/20240724_50v_1_8e-8mbar/20240724-0003/20240724-0003_4.mat', '/Users/dcmoore/Desktop/nanosphere_data/20240724_minus_one_e_data/20240724_50v_1_8e-8mbar/20240724-0003/20240724-0003_3.mat', '/Users/dcmoore/Desktop/nanosphere_data/20240724_minus_one_e_data/20240724_50v_1_8e-8mbar/20240724-0003/20240724-0003_2.mat', '/Users/dcmoore/Desktop/nanosphere_data/20240724_minus_one_e_data/20240724_50v_1_8e-8mbar/20240724-0003/20240724-0003_1.mat', '/Users/dcmoore/Desktop/nanosphere_data/20240724_minus_one_e_data/20240724_50v_1_8e-8mbar/20240724-0001/20240724-0001_4.mat', '/Users/dcmoore/Desktop/nanosphere_data/20240724_minus_one_e_data/20240724_50v_1_8e-8mbar/20240724-0001/20240724-0001_1.mat', '/Users/dcmoore/Desktop/nanosphere_data/20240724_minus_one_e_data/20240724_50v_1_8e-8mbar/20240724-0001/20240724-0001_2.mat', '/Users/dcmoore/Desktop/nanosphere_data/20240724_minus_one_e_data/20240724_50v_1_8e-8mbar/20240724-0001/20240724-0001_3.mat']\n"
     ]
    }
   ],
   "source": [
    "print(data_files)"
   ]
  },
  {
   "cell_type": "code",
   "execution_count": 417,
   "metadata": {},
   "outputs": [
    {
     "name": "stderr",
     "output_type": "stream",
     "text": [
      "/var/folders/35/ft5fljg94_x6xpzhzn_wtctr0000gn/T/ipykernel_30469/359274140.py:15: DeprecationWarning: Conversion of an array with ndim > 0 to a scalar is deprecated, and will error in future. Ensure you extract a single element from your array before performing this operation. (Deprecated NumPy 1.25.)\n",
      "  time = np.arange(0, len(sphere_z)*tstep, tstep)\n"
     ]
    },
    {
     "name": "stdout",
     "output_type": "stream",
     "text": [
      "Working on impulse at time:  0.2698330031532947\n",
      "Working on impulse at time:  0.5698302066590912\n",
      "Working on impulse at time:  0.8698274101648877\n",
      "Working on impulse at time:  1.169824413670682\n",
      "Working on impulse at time:  1.4698216171764784\n",
      "Working on impulse at time:  1.769818820682275\n",
      "Working on impulse at time:  0.06537820076401601\n",
      "Working on impulse at time:  0.3653754042698125\n",
      "Working on impulse at time:  0.665372607775609\n",
      "Working on impulse at time:  0.9653696112814032\n",
      "Working on impulse at time:  1.2653668147871997\n",
      "Working on impulse at time:  1.5653640182929962\n",
      "Working on impulse at time:  1.8653612217987927\n",
      "Working on impulse at time:  0.19835760231802624\n",
      "Working on impulse at time:  0.49835480582382274\n",
      "Working on impulse at time:  0.7983520093296192\n",
      "Working on impulse at time:  1.0983492128354158\n",
      "Working on impulse at time:  1.39834621634121\n",
      "Working on impulse at time:  1.6983434198470064\n",
      "Working on impulse at time:  1.998340623352803\n",
      "Working on impulse at time:  0.12453540145533282\n",
      "Working on impulse at time:  0.424532404961127\n",
      "Working on impulse at time:  0.7245296084669235\n",
      "Working on impulse at time:  1.02452681197272\n",
      "Working on impulse at time:  1.3245240154785165\n",
      "Working on impulse at time:  1.624521218984313\n",
      "Working on impulse at time:  1.9245184224901095\n",
      "Working on impulse at time:  0.13580600158704215\n",
      "Working on impulse at time:  0.43580320509283865\n",
      "Working on impulse at time:  0.7358004085986352\n",
      "Working on impulse at time:  1.0357976121044317\n",
      "Working on impulse at time:  1.3357946156102258\n",
      "Working on impulse at time:  1.6357918191160223\n",
      "Working on impulse at time:  1.9357890226218188\n",
      "Working on impulse at time:  0.04422640051683402\n",
      "Working on impulse at time:  0.3442236040226305\n",
      "Working on impulse at time:  0.6442206075284247\n",
      "Working on impulse at time:  0.9442178110342212\n",
      "Working on impulse at time:  1.2442150145400177\n",
      "Working on impulse at time:  1.5442122180458142\n",
      "Working on impulse at time:  1.8442094215516107\n",
      "Working on impulse at time:  0.24490480286198135\n",
      "Working on impulse at time:  0.5449020063677779\n",
      "Working on impulse at time:  0.8448992098735744\n",
      "Working on impulse at time:  1.1448964133793709\n",
      "Working on impulse at time:  1.4448936168851674\n",
      "Working on impulse at time:  1.7448908203909639\n",
      "Working on impulse at time:  0.2258462026392607\n",
      "Working on impulse at time:  0.5258434061450572\n",
      "Working on impulse at time:  0.8258406096508537\n",
      "Working on impulse at time:  1.1258378131566502\n",
      "Working on impulse at time:  1.4258350166624467\n",
      "Working on impulse at time:  1.7258322201682432\n",
      "Working on impulse at time:  0.24539000286765145\n",
      "Working on impulse at time:  0.5453870063734456\n",
      "Working on impulse at time:  0.8453842098792421\n",
      "Working on impulse at time:  1.1453814133850386\n",
      "Working on impulse at time:  1.4453786168908351\n",
      "Working on impulse at time:  1.7453758203966316\n",
      "Working on impulse at time:  0.05932580069328708\n",
      "Working on impulse at time:  0.3593230041990836\n",
      "Working on impulse at time:  0.6593200077048778\n",
      "Working on impulse at time:  0.9593172112106743\n",
      "Working on impulse at time:  1.2593144147164708\n",
      "Working on impulse at time:  1.5593116182222673\n",
      "Working on impulse at time:  1.8593088217280638\n",
      "Working on impulse at time:  0.26799000313175725\n",
      "Working on impulse at time:  0.5679872066375538\n",
      "Working on impulse at time:  0.8679844101433503\n",
      "Working on impulse at time:  1.1679816136491468\n",
      "Working on impulse at time:  1.4679788171549433\n",
      "Working on impulse at time:  1.7679760206607398\n",
      "Working on impulse at time:  0.1508576017629366\n",
      "Working on impulse at time:  0.4508548052687331\n",
      "Working on impulse at time:  0.7508520087745296\n",
      "Working on impulse at time:  1.0508492122803261\n",
      "Working on impulse at time:  1.3508464157861226\n",
      "Working on impulse at time:  1.6508434192919168\n",
      "Working on impulse at time:  1.9508406227977133\n",
      "Working on impulse at time:  0.02870480033544709\n",
      "Working on impulse at time:  0.3287020038412436\n",
      "Working on impulse at time:  0.6286992073470401\n",
      "Working on impulse at time:  0.9286964108528366\n",
      "Working on impulse at time:  1.2286936143586331\n",
      "Working on impulse at time:  1.5286908178644296\n",
      "Working on impulse at time:  1.8286880213702261\n",
      "Working on impulse at time:  0.009199400107505085\n",
      "Working on impulse at time:  0.3091966036133016\n",
      "Working on impulse at time:  0.6091938071190981\n",
      "Working on impulse at time:  0.9091910106248946\n",
      "Working on impulse at time:  1.2091880141306888\n",
      "Working on impulse at time:  1.5091852176364853\n",
      "Working on impulse at time:  1.8091824211422818\n",
      "Working on impulse at time:  0.2352198027488015\n",
      "Working on impulse at time:  0.535217006254598\n",
      "Working on impulse at time:  0.8352142097603945\n",
      "Working on impulse at time:  1.135211413266191\n",
      "Working on impulse at time:  1.4352086167719875\n",
      "Working on impulse at time:  1.735205820277784\n",
      "Working on impulse at time:  0.16488860192690424\n",
      "Working on impulse at time:  0.46488580543270075\n",
      "Working on impulse at time:  0.7648830089384973\n",
      "Working on impulse at time:  1.0648802124442938\n",
      "Working on impulse at time:  1.3648774159500903\n",
      "Working on impulse at time:  1.6648746194558868\n",
      "Working on impulse at time:  1.9648718229616833\n",
      "Working on impulse at time:  0.10493080122623155\n",
      "Working on impulse at time:  0.40492800473202806\n",
      "Working on impulse at time:  0.7049252082378246\n",
      "Working on impulse at time:  1.004922411743621\n",
      "Working on impulse at time:  1.3049196152494176\n",
      "Working on impulse at time:  1.604916818755214\n",
      "Working on impulse at time:  1.9049140222610106\n",
      "Working on impulse at time:  0.20429480238740894\n",
      "Working on impulse at time:  0.5042920058932054\n",
      "Working on impulse at time:  0.8042890093989996\n",
      "Working on impulse at time:  1.1042862129047961\n",
      "Working on impulse at time:  1.4042834164105926\n",
      "Working on impulse at time:  1.7042806199163891\n",
      "Working on impulse at time:  0.2807842032812715\n",
      "Working on impulse at time:  0.580781406787068\n",
      "Working on impulse at time:  0.8807786102928645\n",
      "Working on impulse at time:  1.180775813798661\n",
      "Working on impulse at time:  1.4807730173044575\n",
      "Working on impulse at time:  1.780770220810254\n",
      "Working on impulse at time:  0.07242740084639365\n",
      "Working on impulse at time:  0.37242460435219016\n",
      "Working on impulse at time:  0.6724218078579867\n",
      "Working on impulse at time:  0.9724190113637832\n",
      "Working on impulse at time:  1.2724162148695797\n",
      "Working on impulse at time:  1.5724134183753762\n",
      "Working on impulse at time:  1.8724106218811727\n"
     ]
    }
   ],
   "source": [
    "importlib.reload(ns)\n",
    "\n",
    "filt_band = [25e3, 200e3]\n",
    "wind_size = 1e-3 ## fitting window in seconds\n",
    "omega0 = 2*np.pi*64.5e3 ## resonant frequency guess\n",
    "\n",
    "fit_amps = []\n",
    "\n",
    "for data_file in data_files:\n",
    "    data = loadmat(data_file)\n",
    "\n",
    "    sphere_z = np.ndarray.flatten(data['D'])\n",
    "    drive = np.ndarray.flatten(data['G'])\n",
    "    tstep = data['Tinterval'][0]\n",
    "    time = np.arange(0, len(sphere_z)*tstep, tstep)\n",
    "\n",
    "    filtered_data = ns.get_filtered_data(time, sphere_z, drive, filt_band, tstep, make_plot=False) \n",
    "    ns.get_psd(sphere_z, tstep, filtered_data = filtered_data, make_plot = False)\n",
    "\n",
    "    ## now find the impulses and step through each one, plotting and fitting\n",
    "    impulse_idxs = ns.find_impulses(drive, make_plot=False)\n",
    "\n",
    "    for idx in impulse_idxs:\n",
    "\n",
    "        print(\"Working on impulse at time: \", time[idx])    \n",
    "\n",
    "        curr_window = [time[idx]-wind_size, time[idx]+wind_size]\n",
    "\n",
    "        \n",
    "        #amp, fail_flag = ns.fit_data_impulse(time, filtered_data, curr_window, p0_guess=[], drive=drive, make_plot=True, plot_guess=False)\n",
    "        amp, amp_lp, f0, gamma = ns.deconvolve_force_amp(time, filtered_data, curr_window, lp_freq=100e3, make_plot=False)\n",
    "\n",
    "        fit_amps.append([amp, amp_lp, f0, gamma])\n",
    "\n",
    "fit_amps = np.array(fit_amps)"
   ]
  },
  {
   "cell_type": "code",
   "execution_count": 418,
   "metadata": {},
   "outputs": [],
   "source": [
    "def gauss(x, A, mu, sigma):\n",
    "    return A*np.exp(-(x-mu)**2/(2*sigma**2))"
   ]
  },
  {
   "cell_type": "code",
   "execution_count": 420,
   "metadata": {},
   "outputs": [
    {
     "data": {
      "image/png": "[encoded data removed]",
      "text/plain": [
       "<Figure size 640x480 with 1 Axes>"
      ]
     },
     "metadata": {},
     "output_type": "display_data"
    }
   ],
   "source": [
    "bins = np.linspace(0, 0.07, 80)\n",
    "hh, be = np.histogram(np.abs(fit_amps[:,1]), bins=bins)\n",
    "bc = 0.5*(be[1:]+be[:-1])\n",
    "\n",
    "gp, gcov = op.curve_fit(gauss, bc, hh, p0=[np.max(hh), np.mean(bc), np.std(bc)])\n",
    "\n",
    "cal_fac = 10.0/gp[1]\n",
    "\n",
    "xx = np.linspace(0,0.07,1000)\n",
    "\n",
    "plt.figure()\n",
    "plt.errorbar(bc*cal_fac, hh, yerr=np.sqrt(hh), fmt='ko')\n",
    "plt.plot(xx*cal_fac, gauss(xx, *gp), 'r', label=\"$\\sigma$ = %.2f MeV\" % (gp[2]*cal_fac))\n",
    "plt.xlim(0,20)\n",
    "plt.legend()\n",
    "plt.show()\n"
   ]
  },
  {
   "cell_type": "code",
   "execution_count": null,
   "metadata": {},
   "outputs": [],
   "source": []
  }
 ],
 "metadata": {
  "kernelspec": {
   "display_name": "Python 3",
   "language": "python",
   "name": "python3"
  },
  "language_info": {
   "codemirror_mode": {
    "name": "ipython",
    "version": 3
   },
   "file_extension": ".py",
   "mimetype": "text/x-python",
   "name": "python",
   "nbconvert_exporter": "python",
   "pygments_lexer": "ipython3",
   "version": "3.9.6"
  }
 },
 "nbformat": 4,
 "nbformat_minor": 2
}
