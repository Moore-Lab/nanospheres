{
 "cells": [
  {
   "cell_type": "code",
   "execution_count": 1,
   "metadata": {},
   "outputs": [],
   "source": [
    "import numpy as np\n",
    "import matplotlib.pyplot as plt\n",
    "import importlib\n",
    "\n",
    "import sys\n",
    "sys.path.insert(1, r'C:\\Users\\yalem\\OneDrive\\Documents\\Optlev\\scripts\\nanospheres\\DAQ\\picoscope_utils')\n",
    "import Picoscope_control as pc"
   ]
  },
  {
   "cell_type": "code",
   "execution_count": 2,
   "metadata": {},
   "outputs": [],
   "source": [
    "channels_to_use = [\"A\", \"B\", \"C\"]"
   ]
  },
  {
   "cell_type": "code",
   "execution_count": 3,
   "metadata": {},
   "outputs": [],
   "source": [
    "pretrig = 1250\n",
    "posttrig = 1250\n",
    "\n",
    "pico = pc.PicoScope(channels = channels_to_use, buffersize = pretrig+posttrig, \n",
    "                    sampleInterval = 25, sampleUnit = \"NS\", totalSamples = pretrig+posttrig)"
   ]
  },
  {
   "cell_type": "code",
   "execution_count": 4,
   "metadata": {},
   "outputs": [
    {
     "ename": "AttributeError",
     "evalue": "'Ps4000alib' object has no attribute 'ps4000GetValues'",
     "output_type": "error",
     "traceback": [
      "\u001b[1;31m---------------------------------------------------------------------------\u001b[0m",
      "\u001b[1;31mAttributeError\u001b[0m                            Traceback (most recent call last)",
      "Cell \u001b[1;32mIn[4], line 1\u001b[0m\n\u001b[1;32m----> 1\u001b[0m t, d \u001b[38;5;241m=\u001b[39m \u001b[43mpico\u001b[49m\u001b[38;5;241;43m.\u001b[39;49m\u001b[43mtriggeredCapture\u001b[49m\u001b[43m(\u001b[49m\u001b[43mpretrig\u001b[49m\u001b[43m,\u001b[49m\u001b[43m \u001b[49m\u001b[43mposttrig\u001b[49m\u001b[43m)\u001b[49m\n",
      "File \u001b[1;32m~\\OneDrive\\Documents\\Optlev\\scripts\\nanospheres\\DAQ\\picoscope_utils\\Picoscope_control.py:133\u001b[0m, in \u001b[0;36mPicoScope.triggeredCapture\u001b[1;34m(self, preTriggerSamples, postTriggerSamples)\u001b[0m\n\u001b[0;32m    131\u001b[0m overflow \u001b[38;5;241m=\u001b[39m ctypes\u001b[38;5;241m.\u001b[39mc_int16()\n\u001b[0;32m    132\u001b[0m cmaxSamples \u001b[38;5;241m=\u001b[39m ctypes\u001b[38;5;241m.\u001b[39mc_int32(\u001b[38;5;28mself\u001b[39m\u001b[38;5;241m.\u001b[39m_buffersize)\n\u001b[1;32m--> 133\u001b[0m \u001b[43mps\u001b[49m\u001b[38;5;241;43m.\u001b[39;49m\u001b[43mps4000GetValues\u001b[49m(\u001b[38;5;28mself\u001b[39m\u001b[38;5;241m.\u001b[39mchandle, \u001b[38;5;241m0\u001b[39m, ctypes\u001b[38;5;241m.\u001b[39mbyref(cmaxSamples), \u001b[38;5;241m0\u001b[39m, \u001b[38;5;241m0\u001b[39m, \u001b[38;5;241m0\u001b[39m, ctypes\u001b[38;5;241m.\u001b[39mbyref(overflow))\n\u001b[0;32m    135\u001b[0m maxADC \u001b[38;5;241m=\u001b[39m ctypes\u001b[38;5;241m.\u001b[39mc_int16(\u001b[38;5;241m32767\u001b[39m)\n\u001b[0;32m    137\u001b[0m outData \u001b[38;5;241m=\u001b[39m np\u001b[38;5;241m.\u001b[39mzeros_like(\u001b[38;5;28mself\u001b[39m\u001b[38;5;241m.\u001b[39mbufferMax)\n",
      "\u001b[1;31mAttributeError\u001b[0m: 'Ps4000alib' object has no attribute 'ps4000GetValues'"
     ]
    }
   ],
   "source": [
    "t, d = pico.triggeredCapture(pretrig, posttrig)"
   ]
  },
  {
   "cell_type": "code",
   "execution_count": null,
   "metadata": {},
   "outputs": [],
   "source": []
  }
 ],
 "metadata": {
  "kernelspec": {
   "display_name": "Python 3",
   "language": "python",
   "name": "python3"
  },
  "language_info": {
   "codemirror_mode": {
    "name": "ipython",
    "version": 3
   },
   "file_extension": ".py",
   "mimetype": "text/x-python",
   "name": "python",
   "nbconvert_exporter": "python",
   "pygments_lexer": "ipython3",
   "version": "3.12.2"
  }
 },
 "nbformat": 4,
 "nbformat_minor": 2
}
