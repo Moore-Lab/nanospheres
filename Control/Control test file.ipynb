{
 "cells": [
  {
   "cell_type": "code",
   "execution_count": 4,
   "metadata": {},
   "outputs": [],
   "source": [
    "import numpy as np\n",
    "import pyvisa\n",
    "import time\n",
    "import src.RIGOL_control.DG822.DG822_control as rig\n",
    "import importlib as imp"
   ]
  },
  {
   "cell_type": "code",
   "execution_count": 76,
   "metadata": {},
   "outputs": [
    {
     "name": "stdout",
     "output_type": "stream",
     "text": [
      "Connected to Rigol Technologies model DG812, serial DG8A261500548\n"
     ]
    }
   ],
   "source": [
    "\n",
    "imp.reload(rig)\n",
    "_VISA_ADDRESS_rigol = 'USB0::0x1AB1::0x0643::DG8A261500548::INSTR'\n",
    "\n",
    "DG822 = rig.FuncGen(_VISA_ADDRESS_rigol)"
   ]
  },
  {
   "cell_type": "code",
   "execution_count": 77,
   "metadata": {},
   "outputs": [],
   "source": [
    "\n",
    "DG822.harmonic()"
   ]
  },
  {
   "cell_type": "code",
   "execution_count": 78,
   "metadata": {},
   "outputs": [
    {
     "name": "stdout",
     "output_type": "stream",
     "text": [
      "USER\n",
      "\n",
      "X1000000\n",
      "\n"
     ]
    }
   ],
   "source": [
    "source = f\"SOURce{1}:\"\n",
    "print(DG822.query(f\"{source}HARMonic:TYPE?\"))\n",
    "\n",
    "print(DG822.query(f\"{source}HARMonic:USER?\"))"
   ]
  },
  {
   "cell_type": "code",
   "execution_count": 80,
   "metadata": {},
   "outputs": [],
   "source": [
    "cmd = f\"{source}HARmonic:USER:HARMonic AMPLitude{2, 1}\"\n",
    "DG822.write(cmd)"
   ]
  },
  {
   "cell_type": "code",
   "execution_count": 83,
   "metadata": {},
   "outputs": [
    {
     "ename": "VisaIOError",
     "evalue": "VI_ERROR_TMO (-1073807339): Timeout expired before operation completed.",
     "output_type": "error",
     "traceback": [
      "\u001b[1;31m---------------------------------------------------------------------------\u001b[0m",
      "\u001b[1;31mVisaIOError\u001b[0m                               Traceback (most recent call last)",
      "Cell \u001b[1;32mIn[83], line 1\u001b[0m\n\u001b[1;32m----> 1\u001b[0m DG822\u001b[38;5;241m.\u001b[39mquery(\u001b[38;5;124mf\u001b[39m\u001b[38;5;124m\"\u001b[39m\u001b[38;5;132;01m{\u001b[39;00msource\u001b[38;5;132;01m}\u001b[39;00m\u001b[38;5;124mHARmonic:USER:AMPLitude? 2\u001b[39m\u001b[38;5;124m\"\u001b[39m)\n",
      "File \u001b[1;32mc:\\Users\\microspheres\\Documents\\Nanosphere github\\nanospheres\\Control\\src\\RIGOL_control\\DG822\\DG822_control.py:25\u001b[0m, in \u001b[0;36mFuncGen.query\u001b[1;34m(self, command)\u001b[0m\n\u001b[0;32m     24\u001b[0m \u001b[38;5;28;01mdef\u001b[39;00m \u001b[38;5;21mquery\u001b[39m(\u001b[38;5;28mself\u001b[39m, command):\n\u001b[1;32m---> 25\u001b[0m     response \u001b[38;5;241m=\u001b[39m \u001b[38;5;28mself\u001b[39m\u001b[38;5;241m.\u001b[39m_inst\u001b[38;5;241m.\u001b[39mquery(command)\n\u001b[0;32m     26\u001b[0m     \u001b[38;5;28;01mreturn\u001b[39;00m response\n",
      "File \u001b[1;32mc:\\Users\\microspheres\\anaconda3\\envs\\microspheres\\Lib\\site-packages\\pyvisa\\resources\\messagebased.py:648\u001b[0m, in \u001b[0;36mMessageBasedResource.query\u001b[1;34m(self, message, delay)\u001b[0m\n\u001b[0;32m    645\u001b[0m \u001b[38;5;28;01mif\u001b[39;00m delay \u001b[38;5;241m>\u001b[39m \u001b[38;5;241m0.0\u001b[39m:\n\u001b[0;32m    646\u001b[0m     time\u001b[38;5;241m.\u001b[39msleep(delay)\n\u001b[1;32m--> 648\u001b[0m \u001b[38;5;28;01mreturn\u001b[39;00m \u001b[38;5;28mself\u001b[39m\u001b[38;5;241m.\u001b[39mread()\n",
      "File \u001b[1;32mc:\\Users\\microspheres\\anaconda3\\envs\\microspheres\\Lib\\site-packages\\pyvisa\\resources\\messagebased.py:486\u001b[0m, in \u001b[0;36mMessageBasedResource.read\u001b[1;34m(self, termination, encoding)\u001b[0m\n\u001b[0;32m    484\u001b[0m \u001b[38;5;28;01mif\u001b[39;00m termination \u001b[38;5;129;01mis\u001b[39;00m \u001b[38;5;28;01mNone\u001b[39;00m:\n\u001b[0;32m    485\u001b[0m     termination \u001b[38;5;241m=\u001b[39m \u001b[38;5;28mself\u001b[39m\u001b[38;5;241m.\u001b[39m_read_termination\n\u001b[1;32m--> 486\u001b[0m     message \u001b[38;5;241m=\u001b[39m \u001b[38;5;28mself\u001b[39m\u001b[38;5;241m.\u001b[39m_read_raw()\u001b[38;5;241m.\u001b[39mdecode(enco)\n\u001b[0;32m    487\u001b[0m \u001b[38;5;28;01melse\u001b[39;00m:\n\u001b[0;32m    488\u001b[0m     \u001b[38;5;28;01mwith\u001b[39;00m \u001b[38;5;28mself\u001b[39m\u001b[38;5;241m.\u001b[39mread_termination_context(termination):\n",
      "File \u001b[1;32mc:\\Users\\microspheres\\anaconda3\\envs\\microspheres\\Lib\\site-packages\\pyvisa\\resources\\messagebased.py:442\u001b[0m, in \u001b[0;36mMessageBasedResource._read_raw\u001b[1;34m(self, size)\u001b[0m\n\u001b[0;32m    435\u001b[0m     \u001b[38;5;28;01mwhile\u001b[39;00m status \u001b[38;5;241m==\u001b[39m loop_status:\n\u001b[0;32m    436\u001b[0m         logger\u001b[38;5;241m.\u001b[39mdebug(\n\u001b[0;32m    437\u001b[0m             \u001b[38;5;124m\"\u001b[39m\u001b[38;5;132;01m%s\u001b[39;00m\u001b[38;5;124m - reading \u001b[39m\u001b[38;5;132;01m%d\u001b[39;00m\u001b[38;5;124m bytes (last status \u001b[39m\u001b[38;5;132;01m%r\u001b[39;00m\u001b[38;5;124m)\u001b[39m\u001b[38;5;124m\"\u001b[39m,\n\u001b[0;32m    438\u001b[0m             \u001b[38;5;28mself\u001b[39m\u001b[38;5;241m.\u001b[39m_resource_name,\n\u001b[0;32m    439\u001b[0m             size,\n\u001b[0;32m    440\u001b[0m             status,\n\u001b[0;32m    441\u001b[0m         )\n\u001b[1;32m--> 442\u001b[0m         chunk, status \u001b[38;5;241m=\u001b[39m \u001b[38;5;28mself\u001b[39m\u001b[38;5;241m.\u001b[39mvisalib\u001b[38;5;241m.\u001b[39mread(\u001b[38;5;28mself\u001b[39m\u001b[38;5;241m.\u001b[39msession, size)\n\u001b[0;32m    443\u001b[0m         ret\u001b[38;5;241m.\u001b[39mextend(chunk)\n\u001b[0;32m    444\u001b[0m \u001b[38;5;28;01mexcept\u001b[39;00m errors\u001b[38;5;241m.\u001b[39mVisaIOError \u001b[38;5;28;01mas\u001b[39;00m e:\n",
      "File \u001b[1;32mc:\\Users\\microspheres\\anaconda3\\envs\\microspheres\\Lib\\site-packages\\pyvisa\\ctwrapper\\functions.py:2337\u001b[0m, in \u001b[0;36mread\u001b[1;34m(library, session, count)\u001b[0m\n\u001b[0;32m   2335\u001b[0m buffer \u001b[38;5;241m=\u001b[39m create_string_buffer(count)\n\u001b[0;32m   2336\u001b[0m return_count \u001b[38;5;241m=\u001b[39m ViUInt32()\n\u001b[1;32m-> 2337\u001b[0m ret \u001b[38;5;241m=\u001b[39m library\u001b[38;5;241m.\u001b[39mviRead(session, buffer, count, byref(return_count))\n\u001b[0;32m   2338\u001b[0m \u001b[38;5;28;01mreturn\u001b[39;00m buffer\u001b[38;5;241m.\u001b[39mraw[: return_count\u001b[38;5;241m.\u001b[39mvalue], ret\n",
      "File \u001b[1;32mc:\\Users\\microspheres\\anaconda3\\envs\\microspheres\\Lib\\site-packages\\pyvisa\\ctwrapper\\highlevel.py:226\u001b[0m, in \u001b[0;36mIVIVisaLibrary._return_handler\u001b[1;34m(self, ret_value, func, arguments)\u001b[0m\n\u001b[0;32m    223\u001b[0m         \u001b[38;5;66;03m# Set session back to a safe value\u001b[39;00m\n\u001b[0;32m    224\u001b[0m         session \u001b[38;5;241m=\u001b[39m \u001b[38;5;28;01mNone\u001b[39;00m\n\u001b[1;32m--> 226\u001b[0m \u001b[38;5;28;01mreturn\u001b[39;00m \u001b[38;5;28mself\u001b[39m\u001b[38;5;241m.\u001b[39mhandle_return_value(session, ret_value)\n",
      "File \u001b[1;32mc:\\Users\\microspheres\\anaconda3\\envs\\microspheres\\Lib\\site-packages\\pyvisa\\highlevel.py:251\u001b[0m, in \u001b[0;36mVisaLibraryBase.handle_return_value\u001b[1;34m(self, session, status_code)\u001b[0m\n\u001b[0;32m    248\u001b[0m     \u001b[38;5;28mself\u001b[39m\u001b[38;5;241m.\u001b[39m_last_status_in_session[session] \u001b[38;5;241m=\u001b[39m rv\n\u001b[0;32m    250\u001b[0m \u001b[38;5;28;01mif\u001b[39;00m rv \u001b[38;5;241m<\u001b[39m \u001b[38;5;241m0\u001b[39m:\n\u001b[1;32m--> 251\u001b[0m     \u001b[38;5;28;01mraise\u001b[39;00m errors\u001b[38;5;241m.\u001b[39mVisaIOError(rv)\n\u001b[0;32m    253\u001b[0m \u001b[38;5;28;01mif\u001b[39;00m rv \u001b[38;5;129;01min\u001b[39;00m \u001b[38;5;28mself\u001b[39m\u001b[38;5;241m.\u001b[39missue_warning_on:\n\u001b[0;32m    254\u001b[0m     \u001b[38;5;28;01mif\u001b[39;00m session \u001b[38;5;129;01mand\u001b[39;00m rv \u001b[38;5;129;01mnot\u001b[39;00m \u001b[38;5;129;01min\u001b[39;00m \u001b[38;5;28mself\u001b[39m\u001b[38;5;241m.\u001b[39m_ignore_warning_in_session[session]:\n",
      "\u001b[1;31mVisaIOError\u001b[0m: VI_ERROR_TMO (-1073807339): Timeout expired before operation completed."
     ]
    }
   ],
   "source": [
    "DG822.query(f\"{source}HARmonic:USER:AMPLitude? 2\")"
   ]
  },
  {
   "cell_type": "code",
   "execution_count": null,
   "metadata": {},
   "outputs": [],
   "source": []
  }
 ],
 "metadata": {
  "kernelspec": {
   "display_name": "microspheres",
   "language": "python",
   "name": "python3"
  },
  "language_info": {
   "codemirror_mode": {
    "name": "ipython",
    "version": 3
   },
   "file_extension": ".py",
   "mimetype": "text/x-python",
   "name": "python",
   "nbconvert_exporter": "python",
   "pygments_lexer": "ipython3",
   "version": "3.11.3"
  }
 },
 "nbformat": 4,
 "nbformat_minor": 2
}
