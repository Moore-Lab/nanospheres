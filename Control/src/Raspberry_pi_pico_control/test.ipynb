{
 "cells": [
  {
   "cell_type": "code",
   "execution_count": 76,
   "id": "ac324645",
   "metadata": {},
   "outputs": [],
   "source": [
    "import RP_pico_control as rpc\n",
    "import time"
   ]
  },
  {
   "cell_type": "code",
   "execution_count": 77,
   "id": "05a5cfe6",
   "metadata": {},
   "outputs": [
    {
     "name": "stdout",
     "output_type": "stream",
     "text": [
      "Connected to COM3\n"
     ]
    }
   ],
   "source": [
    "rpp = rpc.RPpico(port = 'COM3')"
   ]
  },
  {
   "cell_type": "code",
   "execution_count": 78,
   "id": "1f5da74c",
   "metadata": {},
   "outputs": [],
   "source": [
    "command = 'from machine import Pin'\n",
    "rpp.send_command(command)\n",
    "command = 'led = Pin(\"LED\", Pin.OUT)'\n",
    "rpp.send_command(command)\n",
    "command = 'led.value(1)'\n",
    "rpp.send_command(command)"
   ]
  },
  {
   "cell_type": "code",
   "execution_count": 79,
   "id": "17ca4f01",
   "metadata": {},
   "outputs": [],
   "source": [
    "command = 'led.value(0)'\n",
    "rpp.send_command(command)"
   ]
  },
  {
   "cell_type": "code",
   "execution_count": 80,
   "id": "200326e2",
   "metadata": {},
   "outputs": [],
   "source": [
    "command = 'NSLEEP = Pin(21, Pin.OUT)'\n",
    "rpp.send_command(command)\n",
    "command = 'STEP = Pin(20, Pin.OUT)'\n",
    "rpp.send_command(command)\n",
    "command = 'DIR = Pin(19, Pin.OUT)'\n",
    "rpp.send_command(command)"
   ]
  },
  {
   "cell_type": "code",
   "execution_count": 81,
   "id": "58753cce",
   "metadata": {},
   "outputs": [],
   "source": [
    "command = 'NSLEEP.value(1)'\n",
    "rpp.send_command(command)"
   ]
  },
  {
   "cell_type": "code",
   "execution_count": 135,
   "id": "612c34d1",
   "metadata": {},
   "outputs": [],
   "source": [
    "command = 'DIR.value(1)'\n",
    "rpp.send_command(command)\n",
    "time.sleep(1)\n",
    "i = 0\n",
    "while i < 500:\n",
    "    command = 'STEP.value(1)'\n",
    "    rpp.send_command(command)\n",
    "    time.sleep(0.01)\n",
    "    command = 'STEP.value(0)'\n",
    "    rpp.send_command(command)\n",
    "    i += 1\n",
    "    "
   ]
  },
  {
   "cell_type": "code",
   "execution_count": 136,
   "id": "74162286",
   "metadata": {},
   "outputs": [],
   "source": [
    "command = 'DIR.value(0)'\n",
    "rpp.send_command(command)\n",
    "time.sleep(1)\n",
    "i = 0\n",
    "while i < 490:\n",
    "    command = 'STEP.value(1)'\n",
    "    rpp.send_command(command)\n",
    "    time.sleep(0.01)\n",
    "    command = 'STEP.value(0)'\n",
    "    rpp.send_command(command)\n",
    "    i += 1"
   ]
  },
  {
   "cell_type": "code",
   "execution_count": 137,
   "id": "0a6e52ec",
   "metadata": {},
   "outputs": [],
   "source": [
    "command = 'DIR.value(0)'\n",
    "rpp.send_command(command)\n",
    "command = 'NSLEEP.value(0)'\n",
    "rpp.send_command(command)"
   ]
  },
  {
   "cell_type": "code",
   "execution_count": 138,
   "id": "97546a2f",
   "metadata": {},
   "outputs": [],
   "source": [
    "rpp.close()"
   ]
  },
  {
   "cell_type": "code",
   "execution_count": null,
   "id": "93c81803",
   "metadata": {},
   "outputs": [],
   "source": []
  }
 ],
 "metadata": {
  "kernelspec": {
   "display_name": "base",
   "language": "python",
   "name": "python3"
  },
  "language_info": {
   "codemirror_mode": {
    "name": "ipython",
    "version": 3
   },
   "file_extension": ".py",
   "mimetype": "text/x-python",
   "name": "python",
   "nbconvert_exporter": "python",
   "pygments_lexer": "ipython3",
   "version": "3.10.9"
  }
 },
 "nbformat": 4,
 "nbformat_minor": 5
}
