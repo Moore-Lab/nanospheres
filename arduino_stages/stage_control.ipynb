{
 "cells": [
  {
   "cell_type": "code",
   "execution_count": 1,
   "metadata": {},
   "outputs": [],
   "source": [
    "import serial, time"
   ]
  },
  {
   "cell_type": "code",
   "execution_count": 30,
   "metadata": {},
   "outputs": [],
   "source": []
  },
  {
   "cell_type": "code",
   "execution_count": 31,
   "metadata": {},
   "outputs": [
    {
     "name": "stdout",
     "output_type": "stream",
     "text": [
      "b' -10, arg2: 0\\r\\n'\n"
     ]
    }
   ],
   "source": [
    "arduino.write(b\"stop\\n\")\n",
    "print(arduino.readline())"
   ]
  },
  {
   "cell_type": "code",
   "execution_count": 32,
   "metadata": {},
   "outputs": [
    {
     "name": "stdout",
     "output_type": "stream",
     "text": [
      "b'Command: stop, arg1: -10, arg2: 0\\r\\n'\n",
      "b'Command: stop, arg1: -10, arg2: stop, arg1: -10, arg2: 0\\r\\n'\n",
      "b'Command: stop, arg1: -10, arg2: 0\\r\\n'\n"
     ]
    }
   ],
   "source": [
    "\n",
    "print(arduino.readline())\n",
    "arduino.write(b\"\\n\")\n",
    "time.sleep(0.5)\n",
    "print(arduino.readline())\n",
    "arduino.write(b\"step:-10:0\\n\")\n",
    "time.sleep(2)\n",
    "print(arduino.readline())\n",
    "arduino.close()"
   ]
  },
  {
   "cell_type": "code",
   "execution_count": 3,
   "metadata": {},
   "outputs": [
    {
     "name": "stdout",
     "output_type": "stream",
     "text": [
      "b'gCommand: , arg1: , arg2: \\r\\n'\n",
      "b'Command: , arg1: , arg2: \\r\\n'\n"
     ]
    }
   ],
   "source": [
    "\n",
    "\n",
    "\n"
   ]
  },
  {
   "cell_type": "code",
   "execution_count": 10,
   "metadata": {},
   "outputs": [
    {
     "name": "stdout",
     "output_type": "stream",
     "text": [
      "b'Command: , arg1: , arg2: \\r\\n'\n"
     ]
    }
   ],
   "source": [
    "print(arduino.readline())"
   ]
  },
  {
   "cell_type": "code",
   "execution_count": null,
   "metadata": {},
   "outputs": [],
   "source": []
  }
 ],
 "metadata": {
  "kernelspec": {
   "display_name": "Python 3",
   "language": "python",
   "name": "python3"
  },
  "language_info": {
   "codemirror_mode": {
    "name": "ipython",
    "version": 3
   },
   "file_extension": ".py",
   "mimetype": "text/x-python",
   "name": "python",
   "nbconvert_exporter": "python",
   "pygments_lexer": "ipython3",
   "version": "3.12.2"
  }
 },
 "nbformat": 4,
 "nbformat_minor": 2
}
