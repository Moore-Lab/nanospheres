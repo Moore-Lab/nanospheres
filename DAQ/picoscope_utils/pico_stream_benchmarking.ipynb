{
 "cells": [
  {
   "cell_type": "code",
   "execution_count": 4,
   "metadata": {},
   "outputs": [],
   "source": [
    "import ctypes\n",
    "import numpy as np\n",
    "from picosdk.ps4000a import ps4000a as ps\n",
    "import matplotlib.pyplot as plt\n",
    "from picosdk.functions import adc2mV, assert_pico_ok\n",
    "import time\n",
    "import h5py\n",
    "import scipy.io as sio\n",
    "import pico_stream as psu"
   ]
  },
  {
   "cell_type": "code",
   "execution_count": 5,
   "metadata": {},
   "outputs": [
    {
     "name": "stdout",
     "output_type": "stream",
     "text": [
      "Total length: 1000000 us\n"
     ]
    },
    {
     "data": {
      "text/plain": [
       "'\\nEnd of set parameters\\n'"
      ]
     },
     "execution_count": 5,
     "metadata": {},
     "output_type": "execute_result"
    }
   ],
   "source": [
    "\"\"\"\n",
    "Set parameters here\n",
    "\"\"\"\n",
    "\n",
    "# Channel E does not work... apparently it isn't a legit Key...\n",
    "\n",
    "channels = ['A', 'B', 'C', 'D', 'F', 'G', 'H']\n",
    "channel_ranges = [7, 7, 7, 7, 7, 7, 7]\n",
    "analogue_offsets = [0.0, 0.0, 0.0, 0.0, 0.0, 0.0, 0.0]\n",
    "\n",
    "enabled = 1\n",
    "disabled = 0\n",
    "\n",
    "# Size of capture\n",
    "sizeOfOneBuffer = 1000000\n",
    "numBuffersToCapture = 1\n",
    "num_files = 10 # number of files tp capture\n",
    "\n",
    "sample_interval = 1 # in us\n",
    "\n",
    "totalSamples = sizeOfOneBuffer * numBuffersToCapture\n",
    "total_length = totalSamples*sample_interval\n",
    "\n",
    "print('Total length: %s us' % total_length)\n",
    "\n",
    "downsample_plot = 1000\n",
    "\n",
    "\"\"\"\n",
    "End of set parameters\n",
    "\"\"\""
   ]
  },
  {
   "cell_type": "code",
   "execution_count": 6,
   "metadata": {},
   "outputs": [
    {
     "name": "stdout",
     "output_type": "stream",
     "text": [
      "{'openunit': 0, 'maximumValue': 0, 'stop': 0, 'close': 0}\n"
     ]
    }
   ],
   "source": [
    "# Turn on the picoscope\n",
    "chandle, status = psu.pico_TurnOn()\n",
    "\n",
    "# Set up the channels\n",
    "for n in range(len(channels)):\n",
    "    psu.set_Channel(channels[n], channel_ranges[n], analogue_offsets[n])\n",
    "\n",
    "# Create buffers ready for assigning pointers for data collection\n",
    "bufferMaxl = np.zeros(shape=(len(channels), sizeOfOneBuffer), dtype=np.int16)\n",
    "\n",
    "memory_segment = 0 # Not 100% sure how this affects things but will mess around with it later to understand\n",
    "\n",
    "# set up the buffer in the picoscope\n",
    "for n, i in enumerate(channels):\n",
    "    psu.set_DataBuffer(i, n)\n",
    "\n",
    "sampleInterval = ctypes.c_int32(sample_interval)\n",
    "sampleUnits = ps.PS4000A_TIME_UNITS['PS4000A_US']\n",
    "actualSampleInterval = sampleInterval.value\n",
    "actualSampleIntervalNs = actualSampleInterval * 1000\n",
    "\n",
    "# Begin streaming mode:\n",
    "\n",
    "bufferCompletel = np.zeros(shape=(len(channels), totalSamples), dtype=np.int16)\n",
    "starts = np.zeros(num_files)\n",
    "ends = np.zeros(num_files)\n",
    "for i in range(num_files):\n",
    "    start = time.time()\n",
    "    nextSample = 0\n",
    "    psu.stream()\n",
    "    maxADC = ctypes.c_int16()\n",
    "    status[\"maximumValue\"] = ps.ps4000aMaximumValue(chandle, ctypes.byref(maxADC))\n",
    "    assert_pico_ok(status[\"maximumValue\"])\n",
    "    adc2mVChlMax = psu.adc2mV2(bufferCompletel, channel_ranges, maxADC)\n",
    "    psu.save_data('C:/Users/thoma/OneDrive/Documents/SIMPLE/Data/PicoTest/1.hdf5', adc2mVChlMax)\n",
    "    end = time.time()\n",
    "    starts[i] = start\n",
    "    ends[i] = end\n",
    "\n",
    "# Stop the scope\n",
    "# handle = chandle\n",
    "status[\"stop\"] = ps.ps4000aStop(chandle)\n",
    "assert_pico_ok(status[\"stop\"])\n",
    "\n",
    "# Disconnect the scope\n",
    "# handle = chandle\n",
    "status[\"close\"] = ps.ps4000aCloseUnit(chandle)\n",
    "assert_pico_ok(status[\"close\"])\n",
    "\n",
    "# Display status returns\n",
    "print(status)"
   ]
  },
  {
   "cell_type": "code",
   "execution_count": 8,
   "metadata": {},
   "outputs": [
    {
     "data": {
      "text/plain": [
       "array([1.71649684e+09, 1.71649684e+09, 1.71649684e+09, 1.71649684e+09,\n",
       "       1.71649684e+09, 1.71649684e+09, 1.71649684e+09, 1.71649684e+09,\n",
       "       1.71649684e+09, 1.71649684e+09])"
      ]
     },
     "execution_count": 8,
     "metadata": {},
     "output_type": "execute_result"
    }
   ],
   "source": [
    "ends"
   ]
  },
  {
   "cell_type": "code",
   "execution_count": null,
   "metadata": {},
   "outputs": [],
   "source": []
  }
 ],
 "metadata": {
  "kernelspec": {
   "display_name": "base",
   "language": "python",
   "name": "python3"
  },
  "language_info": {
   "codemirror_mode": {
    "name": "ipython",
    "version": 3
   },
   "file_extension": ".py",
   "mimetype": "text/x-python",
   "name": "python",
   "nbconvert_exporter": "python",
   "pygments_lexer": "ipython3",
   "version": "3.11.7"
  }
 },
 "nbformat": 4,
 "nbformat_minor": 2
}
