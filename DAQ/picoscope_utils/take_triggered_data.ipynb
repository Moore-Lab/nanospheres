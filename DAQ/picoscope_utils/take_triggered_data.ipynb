{
 "cells": [
  {
   "cell_type": "code",
   "execution_count": 1,
   "metadata": {},
   "outputs": [],
   "source": [
    "import ctypes, pickle, os, time\n",
    "import numpy as np\n",
    "import matplotlib.pyplot as plt\n",
    "import pico, sys\n",
    "sys.path.append(\"../../arduino_stages\")\n",
    "import stage_control as sc\n"
   ]
  },
  {
   "cell_type": "code",
   "execution_count": 6,
   "metadata": {},
   "outputs": [],
   "source": [
    "#nwaveforms = 40000\n",
    "#trig_chan = 0\n",
    "#trig_lev = 1 ## volts\n",
    "\n",
    "nwaveforms = 10000\n",
    "trig_chan = 1\n",
    "trig_lev = 0.15\n",
    "\n",
    "path = \"C:/data/SiPM/waveforms/20240402/\"\n",
    "#filename = \"LED_data_vb_29V_30kHz_1.65Vpp_2.3Vdc_duty0.25.pkl\"\n",
    "filename = \"Am241_vb_28V_coated_scint_x0_y0.pkl\"\n",
    "make_plot = False\n",
    "save_data = True"
   ]
  },
  {
   "cell_type": "code",
   "execution_count": null,
   "metadata": {},
   "outputs": [],
   "source": [
    "pico.take_n_triggers(nwaveforms, trig_chan, trig_lev, path, filename, make_plot=make_plot, save_data=save_data)"
   ]
  },
  {
   "cell_type": "code",
   "execution_count": 5,
   "metadata": {},
   "outputs": [
    {
     "name": "stdout",
     "output_type": "stream",
     "text": [
      "Moving by dX, dY: -8.0 mm, -8.0mm\n"
     ]
    },
    {
     "data": {
      "text/plain": [
       "True"
      ]
     },
     "execution_count": 5,
     "metadata": {},
     "output_type": "execute_result"
    }
   ],
   "source": [
    "## move the stage where we want it to start\n",
    "#sc.move_stage(-8,-8)"
   ]
  },
  {
   "cell_type": "code",
   "execution_count": null,
   "metadata": {},
   "outputs": [],
   "source": [
    "curr_pos = (-8, -8)\n",
    "pos_x = np.arange(-8, 9)\n",
    "pos_y = np.arange(-8, 9)\n",
    "\n",
    "num_retries = 10\n",
    "wait_time = 6\n",
    "\n",
    "for p_x in pos_x:\n",
    "    if(p_x % 2 == 0):\n",
    "        cpy = 1.0*pos_y\n",
    "    else:\n",
    "        cpy = 1.0*pos_y[::-1]\n",
    "    for p_y in cpy:\n",
    "\n",
    "        dx, dy = p_x-curr_pos[0], p_y - curr_pos[1]\n",
    "        print(\"Moving to: (x,y) = \", p_x, p_y, ', by: (dx, dy) =', dx, dy)\n",
    "\n",
    "        success = sc.move_stage(dx,dy)\n",
    "        time.sleep(wait_time)\n",
    "\n",
    "        if(not success):\n",
    "            for i in range(num_retries):\n",
    "                print(\"Retrying, attempt %d\"%i)\n",
    "                success = sc.move_stage(dx,dy)    \n",
    "                if(success):\n",
    "                    time.sleep(wait_time)\n",
    "                    break            \n",
    "        \n",
    "        if(success):\n",
    "            curr_pos = (p_x, p_y)\n",
    "\n",
    "        curr_file = \"Am241_vb_28V_bare_scint_x%.1f_y%.1f.pkl\"%curr_pos\n",
    "        pico.take_n_triggers(nwaveforms, trig_chan, trig_lev, path, curr_file, make_plot=make_plot, save_data=save_data)"
   ]
  },
  {
   "cell_type": "code",
   "execution_count": 1,
   "metadata": {},
   "outputs": [
    {
     "ename": "NameError",
     "evalue": "name 'curr_pos' is not defined",
     "output_type": "error",
     "traceback": [
      "\u001b[1;31m---------------------------------------------------------------------------\u001b[0m",
      "\u001b[1;31mNameError\u001b[0m                                 Traceback (most recent call last)",
      "Cell \u001b[1;32mIn[1], line 1\u001b[0m\n\u001b[1;32m----> 1\u001b[0m \u001b[43mcurr_pos\u001b[49m\n",
      "\u001b[1;31mNameError\u001b[0m: name 'curr_pos' is not defined"
     ]
    }
   ],
   "source": [
    "curr_pos"
   ]
  }
 ],
 "metadata": {
  "kernelspec": {
   "display_name": "Python 3",
   "language": "python",
   "name": "python3"
  },
  "language_info": {
   "codemirror_mode": {
    "name": "ipython",
    "version": 3
   },
   "file_extension": ".py",
   "mimetype": "text/x-python",
   "name": "python",
   "nbconvert_exporter": "python",
   "pygments_lexer": "ipython3",
   "version": "3.12.2"
  }
 },
 "nbformat": 4,
 "nbformat_minor": 2
}
