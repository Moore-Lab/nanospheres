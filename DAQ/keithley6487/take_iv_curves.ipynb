{
 "cells": [
  {
   "cell_type": "code",
   "execution_count": 1,
   "metadata": {},
   "outputs": [],
   "source": [
    "import pyvisa, time\n",
    "import numpy as np\n",
    "import matplotlib.pyplot as plt"
   ]
  },
  {
   "cell_type": "code",
   "execution_count": 2,
   "metadata": {},
   "outputs": [],
   "source": [
    "rm = pyvisa.ResourceManager()\n",
    "inst = rm.open_resource('ASRL4::INSTR', read_termination='\\r', write_termination=\"\\n\", timeout=10000)\n"
   ]
  },
  {
   "cell_type": "code",
   "execution_count": 3,
   "metadata": {},
   "outputs": [
    {
     "name": "stdout",
     "output_type": "stream",
     "text": [
      "KEITHLEY INSTRUMENTS INC.,MODEL 6487,4475696,B04   Jul 24 2017 15:26:56/A02  /C/J\n"
     ]
    }
   ],
   "source": [
    "print(inst.query(\"*IDN?\"))"
   ]
  },
  {
   "cell_type": "code",
   "execution_count": 19,
   "metadata": {},
   "outputs": [],
   "source": [
    "def take_iv_sweep(start_volt, stop_volt, step_volt):\n",
    "    delay = 0.2\n",
    "    \n",
    "    nsteps = int((stop_volt-start_volt)/step_volt)\n",
    "\n",
    "    inst.write(\"*RST\")\n",
    "    inst.write(\"SOUR:VOLT:SWE:STAR %.3f\"%start_volt)\n",
    "    inst.write(\"SOUR:VOLT:SWE:STOP %.3f\"%stop_volt)\n",
    "    inst.write(\"SOUR:VOLT:SWE:STEP %.3f\"%step_volt)\n",
    "    inst.write(\"SOUR:VOLT:SWE:DEL %.2f\"%delay)\n",
    "    inst.write(\"ARM:COUN INF\")\n",
    "    inst.write(\"FORM:ELEM READ,VSO\")\n",
    "    inst.write(\"SOUR:VOLT:SWE:INIT\")\n",
    "    inst.write(\"SYST:ZCH OFF\")\n",
    "    inst.write(\":INIT\")\n",
    "\n",
    "    time.sleep((delay + 0.4)*nsteps + 2)\n",
    "\n",
    "    inst.write(\":ABORT\")\n",
    "    inst.write(\":TRAC:DATA?\")\n",
    "\n",
    "    data = inst.read()\n",
    "\n",
    "\n",
    "    dvals = data.split(\",\")\n",
    "    out_data = []\n",
    "    for j in range(int(len(dvals)/2)):\n",
    "        out_data.append([float(dvals[j*2 + 1]), float(dvals[j*2])])\n",
    "\n",
    "    out_data = np.array(out_data)\n",
    "\n",
    "    return(out_data)"
   ]
  },
  {
   "cell_type": "code",
   "execution_count": 21,
   "metadata": {},
   "outputs": [
    {
     "name": "stdout",
     "output_type": "stream",
     "text": [
      "[[2.000000e+01 2.824155e-09]\n",
      " [2.010000e+01 2.508083e-09]\n",
      " [2.020000e+01 2.406905e-09]\n",
      " [2.030000e+01 2.349626e-09]\n",
      " [2.040000e+01 2.310901e-09]\n",
      " [2.050000e+01 2.292078e-09]\n",
      " [2.060000e+01 2.271947e-09]\n",
      " [2.070000e+01 2.235601e-09]\n",
      " [2.080000e+01 2.228129e-09]\n",
      " [2.090000e+01 2.224548e-09]\n",
      " [2.100000e+01 2.213864e-09]\n",
      " [2.110000e+01 2.206049e-09]\n",
      " [2.120000e+01 2.208227e-09]\n",
      " [2.130000e+01 2.195528e-09]\n",
      " [2.140000e+01 2.196798e-09]\n",
      " [2.150000e+01 2.192495e-09]\n",
      " [2.160000e+01 2.193649e-09]\n",
      " [2.170000e+01 2.192726e-09]\n",
      " [2.180000e+01 2.192335e-09]\n",
      " [2.190000e+01 2.177543e-09]\n",
      " [2.200000e+01 2.223802e-09]\n",
      " [2.210000e+01 2.198061e-09]\n",
      " [2.220000e+01 2.228715e-09]\n",
      " [2.230000e+01 2.184800e-09]\n",
      " [2.240000e+01 2.199513e-09]\n",
      " [2.250000e+01 2.205449e-09]\n",
      " [2.260000e+01 2.204976e-09]\n",
      " [2.270000e+01 2.209704e-09]\n",
      " [2.280000e+01 2.206964e-09]\n",
      " [2.290000e+01 2.217138e-09]\n",
      " [2.300000e+01 2.218630e-09]\n",
      " [2.310000e+01 2.226700e-09]\n",
      " [2.320000e+01 2.227344e-09]\n",
      " [2.330000e+01 2.233808e-09]\n",
      " [2.340000e+01 2.232676e-09]\n",
      " [2.350000e+01 2.245328e-09]\n",
      " [2.360000e+01 2.248801e-09]\n",
      " [2.370000e+01 2.257887e-09]\n",
      " [2.380000e+01 2.256451e-09]\n",
      " [2.390000e+01 2.258679e-09]\n",
      " [2.400000e+01 2.269930e-09]\n",
      " [2.410000e+01 2.269304e-09]\n",
      " [2.420000e+01 2.279319e-09]\n",
      " [2.430000e+01 2.283471e-09]\n",
      " [2.440000e+01 2.295852e-09]\n",
      " [2.450000e+01 2.319218e-09]\n",
      " [2.460000e+01 2.338437e-09]\n",
      " [2.470000e+01 2.639741e-09]\n",
      " [2.480000e+01 4.902491e-09]\n",
      " [2.490000e+01 9.780996e-09]\n",
      " [2.500000e+01 1.717673e-08]\n",
      " [2.510000e+01 2.659319e-08]\n",
      " [2.520000e+01 3.878120e-08]\n",
      " [2.530000e+01 5.277001e-08]\n",
      " [2.540000e+01 6.836743e-08]\n",
      " [2.550000e+01 8.688074e-08]\n",
      " [2.560000e+01 1.080238e-07]\n",
      " [2.570000e+01 1.306344e-07]\n",
      " [2.580000e+01 1.544799e-07]\n",
      " [2.590000e+01 1.805208e-07]\n",
      " [2.600000e+01 2.101861e-07]\n",
      " [2.610000e+01 2.410061e-07]\n",
      " [2.620000e+01 2.737111e-07]\n",
      " [2.630000e+01 3.068308e-07]\n",
      " [2.640000e+01 3.451541e-07]\n",
      " [2.650000e+01 3.872293e-07]\n",
      " [2.660000e+01 4.279612e-07]\n",
      " [2.670000e+01 4.739687e-07]\n",
      " [2.680100e+01 5.163235e-07]\n",
      " [2.690000e+01 5.702393e-07]\n",
      " [2.700000e+01 6.206512e-07]\n",
      " [2.710000e+01 6.791003e-07]\n",
      " [2.720000e+01 7.340005e-07]\n",
      " [2.730000e+01 7.963365e-07]\n",
      " [2.740000e+01 8.617401e-07]\n",
      " [2.750000e+01 9.290662e-07]\n",
      " [2.760000e+01 9.979516e-07]\n",
      " [2.770000e+01 1.080842e-06]\n",
      " [2.780000e+01 1.154613e-06]\n",
      " [2.790000e+01 1.238967e-06]\n",
      " [2.800000e+01 1.322887e-06]\n",
      " [2.810000e+01 1.417128e-06]\n",
      " [2.820000e+01 1.515718e-06]\n",
      " [2.830000e+01 1.607256e-06]\n",
      " [2.840000e+01 1.715302e-06]\n",
      " [2.850000e+01 1.837039e-06]\n",
      " [2.860000e+01 1.940626e-06]\n",
      " [2.870000e+01 2.063027e-06]\n",
      " [2.880000e+01 2.191153e-06]\n",
      " [2.890000e+01 2.330942e-06]\n",
      " [2.900000e+01 2.466536e-06]]\n"
     ]
    },
    {
     "data": {
      "image/png": "[encoded data removed]",
      "text/plain": [
       "<Figure size 640x480 with 1 Axes>"
      ]
     },
     "metadata": {},
     "output_type": "display_data"
    }
   ],
   "source": [
    "data = take_iv_sweep(20, 29, 0.1)\n",
    "\n",
    "print(data)\n",
    "\n",
    "plt.figure()\n",
    "plt.semilogy(data[:,0], np.abs(data[:,1]))\n",
    "\n",
    "plt.show()"
   ]
  },
  {
   "cell_type": "code",
   "execution_count": 5,
   "metadata": {},
   "outputs": [
    {
     "data": {
      "text/plain": [
       "6"
      ]
     },
     "execution_count": 5,
     "metadata": {},
     "output_type": "execute_result"
    }
   ],
   "source": []
  },
  {
   "cell_type": "code",
   "execution_count": 6,
   "metadata": {},
   "outputs": [
    {
     "name": "stdout",
     "output_type": "stream",
     "text": [
      "+7.363509E-12,+000.0000,+2.175404E-10,+000.2000,+3.172813E-10,+000.4000,+3.865950E-10,+000.6000,+4.592486E-10,+000.8000,+5.161256E-10,+001.0000\n"
     ]
    }
   ],
   "source": [
    "\n",
    "inst.write(\":ABORT\")\n",
    "inst.write(\":TRAC:DATA?\")\n",
    "time.sleep(0.1)\n",
    "data = inst.read()\n",
    "print(data)"
   ]
  },
  {
   "cell_type": "code",
   "execution_count": null,
   "metadata": {},
   "outputs": [],
   "source": []
  }
 ],
 "metadata": {
  "kernelspec": {
   "display_name": "Python 3",
   "language": "python",
   "name": "python3"
  },
  "language_info": {
   "codemirror_mode": {
    "name": "ipython",
    "version": 3
   },
   "file_extension": ".py",
   "mimetype": "text/x-python",
   "name": "python",
   "nbconvert_exporter": "python",
   "pygments_lexer": "ipython3",
   "version": "3.12.2"
  }
 },
 "nbformat": 4,
 "nbformat_minor": 2
}
