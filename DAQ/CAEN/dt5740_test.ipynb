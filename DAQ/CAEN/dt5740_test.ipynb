{
 "cells": [
  {
   "cell_type": "code",
   "execution_count": 1,
   "metadata": {},
   "outputs": [],
   "source": [
    "from CAENpy.CAENDigitizer import CAEN_DT5740_Digitizer"
   ]
  },
  {
   "cell_type": "code",
   "execution_count": 2,
   "metadata": {},
   "outputs": [
    {
     "name": "stdout",
     "output_type": "stream",
     "text": [
      "CAEN DT5740D digitizer, serial number 31030\n"
     ]
    }
   ],
   "source": [
    "digitizer = CAEN_DT5740_Digitizer(0) # Open the connection.\n",
    "\n",
    "print(digitizer.idn) # Print general info about the digitizer."
   ]
  },
  {
   "cell_type": "code",
   "execution_count": 3,
   "metadata": {},
   "outputs": [],
   "source": [
    "# Now configure the digitizer:\n",
    "digitizer.set_max_num_events_BLT(1) # One event per call to `digitizer.get_waveforms`.\n",
    "# More configuration here...\n",
    "\n",
    "# Now enter into acquisition mode using the `with` statement:\n",
    "with digitizer:\n",
    "\twaveforms = digitizer.get_waveforms()"
   ]
  },
  {
   "cell_type": "code",
   "execution_count": 4,
   "metadata": {},
   "outputs": [
    {
     "data": {
      "text/plain": [
       "[]"
      ]
     },
     "execution_count": 4,
     "metadata": {},
     "output_type": "execute_result"
    }
   ],
   "source": [
    "waveforms"
   ]
  },
  {
   "cell_type": "code",
   "execution_count": null,
   "metadata": {},
   "outputs": [],
   "source": []
  }
 ],
 "metadata": {
  "kernelspec": {
   "display_name": "Python 3",
   "language": "python",
   "name": "python3"
  },
  "language_info": {
   "codemirror_mode": {
    "name": "ipython",
    "version": 3
   },
   "file_extension": ".py",
   "mimetype": "text/x-python",
   "name": "python",
   "nbconvert_exporter": "python",
   "pygments_lexer": "ipython3",
   "version": "3.12.2"
  }
 },
 "nbformat": 4,
 "nbformat_minor": 2
}
