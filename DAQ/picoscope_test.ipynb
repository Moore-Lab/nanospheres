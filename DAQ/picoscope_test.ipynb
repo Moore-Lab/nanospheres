{
 "cells": [
  {
   "cell_type": "code",
   "execution_count": 13,
   "metadata": {},
   "outputs": [],
   "source": [
    "import ctypes\n",
    "import numpy as np\n",
    "\n",
    "from picosdk.ps4000a import ps4000a as ps\n",
    "from picosdk.functions import adc2mV, assert_pico_ok\n",
    "\n",
    "import time"
   ]
  },
  {
   "cell_type": "code",
   "execution_count": 3,
   "metadata": {},
   "outputs": [],
   "source": [
    "# Create chandle and status ready for use\n",
    "chandle = ctypes.c_int16()\n",
    "status = {}\n",
    "\n",
    "# Open 4000 series PicoScope\n",
    "# Returns handle to chandle for use in future API functions\n",
    "status[\"openunit\"] = ps.ps4000aOpenUnit(ctypes.byref(chandle), None)\n",
    "assert_pico_ok(status[\"openunit\"])\n",
    "#test"
   ]
  },
  {
   "cell_type": "code",
   "execution_count": 5,
   "metadata": {},
   "outputs": [],
   "source": [
    "enabled = 1\n",
    "disabled = 0\n",
    "analogue_offset = 0.0\n",
    "channel_range = 7\n",
    "status[\"setChA\"] = ps.ps4000aSetChannel(chandle,\n",
    "                                        ps.PS4000A_CHANNEL['PS4000A_CHANNEL_A'],\n",
    "                                        enabled,\n",
    "                                        ps.PS4000A_COUPLING['PS4000A_DC'],\n",
    "                                        channel_range,\n",
    "                                        analogue_offset)\n",
    "assert_pico_ok(status[\"setChA\"])"
   ]
  },
  {
   "cell_type": "code",
   "execution_count": 46,
   "metadata": {},
   "outputs": [],
   "source": [
    "sizeOfOneBuffer = 1000\n",
    "\n",
    "# Create buffers ready for assigning pointers for data collection\n",
    "bufferAMax = np.zeros(shape=sizeOfOneBuffer, dtype=np.int16)\n",
    "\n",
    "memory_segment = 0\n",
    "\n",
    "status[\"setDataBuffersA\"] = ps.ps4000aSetDataBuffers(chandle,\n",
    "                                                     ps.PS4000A_CHANNEL['PS4000A_CHANNEL_A'],\n",
    "                                                     bufferAMax.ctypes.data_as(ctypes.POINTER(ctypes.c_int16)),\n",
    "                                                     None,\n",
    "                                                     sizeOfOneBuffer,\n",
    "                                                     memory_segment,\n",
    "                                                     ps.PS4000A_RATIO_MODE['PS4000A_RATIO_MODE_NONE'])\n",
    "assert_pico_ok(status[\"setDataBuffersA\"])"
   ]
  },
  {
   "cell_type": "code",
   "execution_count": 79,
   "metadata": {},
   "outputs": [],
   "source": [
    "\n",
    "numBuffersToCapture = 10\n",
    "totalSamples = sizeOfOneBuffer * numBuffersToCapture\n",
    "\n",
    "#Begin streaming\n",
    "sampleInterval = ctypes.c_int32(1000)\n",
    "sampleUnits = ps.PS4000A_TIME_UNITS['PS4000A_US']\n",
    "# We are not triggering:\n",
    "maxPreTriggerSamples = 0\n",
    "autoStopOn = 1\n",
    "# No downsampling:\n",
    "downsampleRatio = 1\n",
    "status[\"runStreaming\"] = ps.ps4000aRunStreaming(chandle,\n",
    "                                                ctypes.byref(sampleInterval),\n",
    "                                                sampleUnits,\n",
    "                                                maxPreTriggerSamples,\n",
    "                                                totalSamples,\n",
    "                                                autoStopOn,\n",
    "                                                downsampleRatio,\n",
    "                                                ps.PS4000A_RATIO_MODE['PS4000A_RATIO_MODE_NONE'],\n",
    "                                                sizeOfOneBuffer)\n",
    "assert_pico_ok(status[\"runStreaming\"])"
   ]
  },
  {
   "cell_type": "code",
   "execution_count": 64,
   "metadata": {},
   "outputs": [],
   "source": [
    "bufferCompleteA = np.zeros(shape=totalSamples, dtype=np.int16)\n",
    "global nextSample, autoStopOuter, wasCalledBack\n",
    "nextSample = 0\n",
    "autoStopOuter = False\n",
    "wasCalledBack = False\n",
    "#global wasCalledBack, nextSample, autoStopOuter\n",
    "\n",
    "def streaming_callback(handle, noOfSamples, startIndex, overflow, triggerAt, triggered, autoStop, param):\n",
    "    global wasCalledBack, nextSample, autoStopOuter\n",
    "    wasCalledBack = True\n",
    "    destEnd = nextSample + noOfSamples\n",
    "    sourceEnd = startIndex + noOfSamples\n",
    "    bufferCompleteA[nextSample:destEnd] = bufferAMax[startIndex:sourceEnd]\n",
    "    nextSample += noOfSamples\n",
    "    if autoStop:\n",
    "        autoStopOuter = True\n",
    "\n",
    "# Convert the python function into a C function pointer.\n",
    "cFuncPtr = ps.StreamingReadyType(streaming_callback)"
   ]
  },
  {
   "cell_type": "code",
   "execution_count": 82,
   "metadata": {},
   "outputs": [],
   "source": [
    "nextSample = 0\n",
    "autoStopOuter = False\n",
    "status[\"runStreaming\"] = ps.ps4000aRunStreaming(chandle,\n",
    "                                                ctypes.byref(sampleInterval),\n",
    "                                                sampleUnits,\n",
    "                                                maxPreTriggerSamples,\n",
    "                                                totalSamples,\n",
    "                                                autoStopOn,\n",
    "                                                downsampleRatio,\n",
    "                                                ps.PS4000A_RATIO_MODE['PS4000A_RATIO_MODE_NONE'],\n",
    "                                                sizeOfOneBuffer)\n",
    "assert_pico_ok(status[\"runStreaming\"])\n",
    "while nextSample < totalSamples and not autoStopOuter:\n",
    "        wasCalledBack = False\n",
    "        status[\"getStreamingLastestValues\"] = ps.ps4000aGetStreamingLatestValues(chandle, cFuncPtr, None)\n",
    "        if not wasCalledBack:\n",
    "            # If we weren't called back by the driver, this means no data is ready. Sleep for a short while before trying\n",
    "            # again.\n",
    "            time.sleep(0.01)"
   ]
  },
  {
   "cell_type": "code",
   "execution_count": 83,
   "metadata": {},
   "outputs": [
    {
     "data": {
      "text/plain": [
       "[<matplotlib.lines.Line2D at 0x1ad82462f60>]"
      ]
     },
     "execution_count": 83,
     "metadata": {},
     "output_type": "execute_result"
    },
    {
     "data": {
      "image/png": "[encoded data removed]",
      "text/plain": [
       "<Figure size 640x480 with 1 Axes>"
      ]
     },
     "metadata": {},
     "output_type": "display_data"
    }
   ],
   "source": [
    "import matplotlib.pyplot as plt\n",
    "\n",
    "plt.plot(bufferCompleteA)"
   ]
  },
  {
   "cell_type": "code",
   "execution_count": 3,
   "metadata": {},
   "outputs": [],
   "source": [
    "import h5py\n",
    "import numpy as np"
   ]
  },
  {
   "cell_type": "code",
   "execution_count": 9,
   "metadata": {},
   "outputs": [],
   "source": [
    "filename = \"C:/Users/yalem/OneDrive/Documents/Picoscope Tests/Pico Control/test.hdf5\"\n",
    "with h5py.File(filename, 'w') as f:\n",
    "    f['dataset'] = np.linspace(0, 100, 101)\n"
   ]
  },
  {
   "cell_type": "code",
   "execution_count": 10,
   "metadata": {},
   "outputs": [
    {
     "name": "stdout",
     "output_type": "stream",
     "text": [
      "[  0.   1.   2.   3.   4.   5.   6.   7.   8.   9.  10.  11.  12.  13.\n",
      "  14.  15.  16.  17.  18.  19.  20.  21.  22.  23.  24.  25.  26.  27.\n",
      "  28.  29.  30.  31.  32.  33.  34.  35.  36.  37.  38.  39.  40.  41.\n",
      "  42.  43.  44.  45.  46.  47.  48.  49.  50.  51.  52.  53.  54.  55.\n",
      "  56.  57.  58.  59.  60.  61.  62.  63.  64.  65.  66.  67.  68.  69.\n",
      "  70.  71.  72.  73.  74.  75.  76.  77.  78.  79.  80.  81.  82.  83.\n",
      "  84.  85.  86.  87.  88.  89.  90.  91.  92.  93.  94.  95.  96.  97.\n",
      "  98.  99. 100.]\n"
     ]
    }
   ],
   "source": [
    "with h5py.File(filename, 'r') as f:\n",
    "    print(np.array(f['dataset']))"
   ]
  },
  {
   "cell_type": "code",
   "execution_count": null,
   "metadata": {},
   "outputs": [],
   "source": []
  }
 ],
 "metadata": {
  "kernelspec": {
   "display_name": "Python 3",
   "language": "python",
   "name": "python3"
  },
  "language_info": {
   "codemirror_mode": {
    "name": "ipython",
    "version": 3
   },
   "file_extension": ".py",
   "mimetype": "text/x-python",
   "name": "python",
   "nbconvert_exporter": "python",
   "pygments_lexer": "ipython3",
   "version": "3.12.2"
  }
 },
 "nbformat": 4,
 "nbformat_minor": 2
}
