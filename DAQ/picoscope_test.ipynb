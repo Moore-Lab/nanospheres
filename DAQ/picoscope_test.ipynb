{
 "cells": [
  {
   "cell_type": "code",
   "execution_count": 11,
   "metadata": {},
   "outputs": [],
   "source": [
    "import ctypes\n",
    "import numpy as np\n",
    "\n",
    "from picosdk.ps4000a import ps4000a as ps\n",
    "from picosdk.functions import adc2mV, assert_pico_ok"
   ]
  },
  {
   "cell_type": "code",
   "execution_count": 12,
   "metadata": {},
   "outputs": [
    {
     "ename": "AttributeError",
     "evalue": "'Ps4000alib' object has no attribute 'ps4000OpenUnit'",
     "output_type": "error",
     "traceback": [
      "\u001b[1;31m---------------------------------------------------------------------------\u001b[0m",
      "\u001b[1;31mAttributeError\u001b[0m                            Traceback (most recent call last)",
      "Cell \u001b[1;32mIn[12], line 7\u001b[0m\n\u001b[0;32m      3\u001b[0m status \u001b[38;5;241m=\u001b[39m {}\n\u001b[0;32m      5\u001b[0m \u001b[38;5;66;03m# Open 5000 series PicoScope\u001b[39;00m\n\u001b[0;32m      6\u001b[0m \u001b[38;5;66;03m# Returns handle to chandle for use in future API functions\u001b[39;00m\n\u001b[1;32m----> 7\u001b[0m status[\u001b[38;5;124m\"\u001b[39m\u001b[38;5;124mopenunit\u001b[39m\u001b[38;5;124m\"\u001b[39m] \u001b[38;5;241m=\u001b[39m \u001b[43mps\u001b[49m\u001b[38;5;241;43m.\u001b[39;49m\u001b[43mps4000OpenUnit\u001b[49m(ctypes\u001b[38;5;241m.\u001b[39mbyref(chandle))\n\u001b[0;32m      8\u001b[0m assert_pico_ok(status[\u001b[38;5;124m\"\u001b[39m\u001b[38;5;124mopenunit\u001b[39m\u001b[38;5;124m\"\u001b[39m])\n",
      "\u001b[1;31mAttributeError\u001b[0m: 'Ps4000alib' object has no attribute 'ps4000OpenUnit'"
     ]
    }
   ],
   "source": [
    "# Create chandle and status ready for use\n",
    "chandle = ctypes.c_int16()\n",
    "status = {}\n",
    "\n",
    "# Open 5000 series PicoScope\n",
    "# Returns handle to chandle for use in future API functions\n",
    "status[\"openunit\"] = ps.ps4000OpenUnit(ctypes.byref(chandle))\n",
    "assert_pico_ok(status[\"openunit\"])"
   ]
  },
  {
   "cell_type": "code",
   "execution_count": null,
   "metadata": {},
   "outputs": [],
   "source": []
  }
 ],
 "metadata": {
  "kernelspec": {
   "display_name": "Python 3",
   "language": "python",
   "name": "python3"
  },
  "language_info": {
   "codemirror_mode": {
    "name": "ipython",
    "version": 3
   },
   "file_extension": ".py",
   "mimetype": "text/x-python",
   "name": "python",
   "nbconvert_exporter": "python",
   "pygments_lexer": "ipython3",
   "version": "3.12.2"
  }
 },
 "nbformat": 4,
 "nbformat_minor": 2
}
