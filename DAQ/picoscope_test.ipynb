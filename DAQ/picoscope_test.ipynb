{
 "cells": [
  {
   "cell_type": "code",
   "execution_count": 1,
   "metadata": {},
   "outputs": [],
   "source": [
    "import ctypes\n",
    "import numpy as np\n",
    "\n",
    "from picosdk.ps4000a import ps4000a as ps\n",
    "from picosdk.functions import adc2mV, assert_pico_ok\n",
    "\n",
    "import time"
   ]
  },
  {
   "cell_type": "code",
   "execution_count": 2,
   "metadata": {},
   "outputs": [],
   "source": [
    "# Create chandle and status ready for use\n",
    "chandle = ctypes.c_int16()\n",
    "status = {}\n",
    "\n",
    "# Open 4000 series PicoScope\n",
    "# Returns handle to chandle for use in future API functions\n",
    "status[\"openunit\"] = ps.ps4000aOpenUnit(ctypes.byref(chandle), None)\n",
    "assert_pico_ok(status[\"openunit\"])\n",
    "#test"
   ]
  },
  {
   "cell_type": "code",
   "execution_count": 3,
   "metadata": {},
   "outputs": [],
   "source": [
    "enabled = 1\n",
    "disabled = 0\n",
    "analogue_offset = 0.0\n",
    "channel_range = 7\n",
    "status[\"setChA\"] = ps.ps4000aSetChannel(chandle,\n",
    "                                        ps.PS4000A_CHANNEL['PS4000A_CHANNEL_A'],\n",
    "                                        enabled,\n",
    "                                        ps.PS4000A_COUPLING['PS4000A_DC'],\n",
    "                                        channel_range,\n",
    "                                        analogue_offset)\n",
    "assert_pico_ok(status[\"setChA\"])"
   ]
  },
  {
   "cell_type": "code",
   "execution_count": 4,
   "metadata": {},
   "outputs": [],
   "source": [
    "sizeOfOneBuffer = 1000\n",
    "\n",
    "# Create buffers ready for assigning pointers for data collection\n",
    "bufferAMax = np.zeros(shape=sizeOfOneBuffer, dtype=np.int16)\n",
    "\n",
    "memory_segment = 0\n",
    "\n",
    "status[\"setDataBuffersA\"] = ps.ps4000aSetDataBuffers(chandle,\n",
    "                                                     ps.PS4000A_CHANNEL['PS4000A_CHANNEL_A'],\n",
    "                                                     bufferAMax.ctypes.data_as(ctypes.POINTER(ctypes.c_int16)),\n",
    "                                                     None,\n",
    "                                                     sizeOfOneBuffer,\n",
    "                                                     memory_segment,\n",
    "                                                     ps.PS4000A_RATIO_MODE['PS4000A_RATIO_MODE_NONE'])\n",
    "assert_pico_ok(status[\"setDataBuffersA\"])"
   ]
  },
  {
   "cell_type": "code",
   "execution_count": 5,
   "metadata": {},
   "outputs": [],
   "source": [
    "\n",
    "numBuffersToCapture = 10\n",
    "totalSamples = sizeOfOneBuffer * numBuffersToCapture\n",
    "\n",
    "#Begin streaming\n",
    "sampleInterval = ctypes.c_int32(1000)\n",
    "sampleUnits = ps.PS4000A_TIME_UNITS['PS4000A_US']\n",
    "# We are not triggering:\n",
    "maxPreTriggerSamples = 0\n",
    "autoStopOn = 1\n",
    "# No downsampling:\n",
    "downsampleRatio = 1\n",
    "status[\"runStreaming\"] = ps.ps4000aRunStreaming(chandle,\n",
    "                                                ctypes.byref(sampleInterval),\n",
    "                                                sampleUnits,\n",
    "                                                maxPreTriggerSamples,\n",
    "                                                totalSamples,\n",
    "                                                autoStopOn,\n",
    "                                                downsampleRatio,\n",
    "                                                ps.PS4000A_RATIO_MODE['PS4000A_RATIO_MODE_NONE'],\n",
    "                                                sizeOfOneBuffer)\n",
    "assert_pico_ok(status[\"runStreaming\"])"
   ]
  },
  {
   "cell_type": "code",
   "execution_count": 6,
   "metadata": {},
   "outputs": [],
   "source": [
    "bufferCompleteA = np.zeros(shape=totalSamples, dtype=np.int16)\n",
    "global nextSample, autoStopOuter, wasCalledBack\n",
    "nextSample = 0\n",
    "autoStopOuter = False\n",
    "wasCalledBack = False\n",
    "#global wasCalledBack, nextSample, autoStopOuter\n",
    "\n",
    "def streaming_callback(handle, noOfSamples, startIndex, overflow, triggerAt, triggered, autoStop, param):\n",
    "    global wasCalledBack, nextSample, autoStopOuter\n",
    "    wasCalledBack = True\n",
    "    destEnd = nextSample + noOfSamples\n",
    "    sourceEnd = startIndex + noOfSamples\n",
    "    bufferCompleteA[nextSample:destEnd] = bufferAMax[startIndex:sourceEnd]\n",
    "    nextSample += noOfSamples\n",
    "    if autoStop:\n",
    "        autoStopOuter = True\n",
    "\n",
    "# Convert the python function into a C function pointer.\n",
    "cFuncPtr = ps.StreamingReadyType(streaming_callback)"
   ]
  },
  {
   "cell_type": "code",
   "execution_count": 7,
   "metadata": {},
   "outputs": [],
   "source": [
    "nextSample = 0\n",
    "autoStopOuter = False\n",
    "status[\"runStreaming\"] = ps.ps4000aRunStreaming(chandle,\n",
    "                                                ctypes.byref(sampleInterval),\n",
    "                                                sampleUnits,\n",
    "                                                maxPreTriggerSamples,\n",
    "                                                totalSamples,\n",
    "                                                autoStopOn,\n",
    "                                                downsampleRatio,\n",
    "                                                ps.PS4000A_RATIO_MODE['PS4000A_RATIO_MODE_NONE'],\n",
    "                                                sizeOfOneBuffer)\n",
    "assert_pico_ok(status[\"runStreaming\"])\n",
    "while nextSample < totalSamples and not autoStopOuter:\n",
    "        wasCalledBack = False\n",
    "        status[\"getStreamingLastestValues\"] = ps.ps4000aGetStreamingLatestValues(chandle, cFuncPtr, None)\n",
    "        if not wasCalledBack:\n",
    "            # If we weren't called back by the driver, this means no data is ready. Sleep for a short while before trying\n",
    "            # again.\n",
    "            time.sleep(0.01)"
   ]
  },
  {
   "cell_type": "code",
   "execution_count": 25,
   "metadata": {},
   "outputs": [
    {
     "ename": "PicoSDKCtypesError",
     "evalue": "PicoSDK returned 'PICO_INVALID_HANDLE'",
     "output_type": "error",
     "traceback": [
      "\u001b[1;31m---------------------------------------------------------------------------\u001b[0m",
      "\u001b[1;31mPicoSDKCtypesError\u001b[0m                        Traceback (most recent call last)",
      "Cell \u001b[1;32mIn[25], line 2\u001b[0m\n\u001b[0;32m      1\u001b[0m status[\u001b[38;5;124m\"\u001b[39m\u001b[38;5;124mstop\u001b[39m\u001b[38;5;124m\"\u001b[39m] \u001b[38;5;241m=\u001b[39m ps\u001b[38;5;241m.\u001b[39mps4000aStop(chandle)\n\u001b[1;32m----> 2\u001b[0m assert_pico_ok(status[\u001b[38;5;124m\"\u001b[39m\u001b[38;5;124mstop\u001b[39m\u001b[38;5;124m\"\u001b[39m])\n\u001b[0;32m      3\u001b[0m status[\u001b[38;5;124m\"\u001b[39m\u001b[38;5;124mclose\u001b[39m\u001b[38;5;124m\"\u001b[39m] \u001b[38;5;241m=\u001b[39m ps\u001b[38;5;241m.\u001b[39mps4000aCloseUnit(chandle)\n\u001b[0;32m      4\u001b[0m assert_pico_ok(status[\u001b[38;5;124m\"\u001b[39m\u001b[38;5;124mclose\u001b[39m\u001b[38;5;124m\"\u001b[39m])\n",
      "File \u001b[1;32m~\\AppData\\Roaming\\Python\\Python311\\site-packages\\picosdk\\functions.py:160\u001b[0m, in \u001b[0;36massert_pico_ok\u001b[1;34m(status)\u001b[0m\n\u001b[0;32m    158\u001b[0m \u001b[38;5;66;03m# checks for PICO_OK status return\u001b[39;00m\n\u001b[0;32m    159\u001b[0m \u001b[38;5;28;01mif\u001b[39;00m status \u001b[38;5;241m!=\u001b[39m PICO_STATUS[\u001b[38;5;124m'\u001b[39m\u001b[38;5;124mPICO_OK\u001b[39m\u001b[38;5;124m'\u001b[39m]:\n\u001b[1;32m--> 160\u001b[0m     \u001b[38;5;28;01mraise\u001b[39;00m PicoSDKCtypesError(\u001b[38;5;124m\"\u001b[39m\u001b[38;5;124mPicoSDK returned \u001b[39m\u001b[38;5;124m'\u001b[39m\u001b[38;5;132;01m{}\u001b[39;00m\u001b[38;5;124m'\u001b[39m\u001b[38;5;124m\"\u001b[39m\u001b[38;5;241m.\u001b[39mformat(PICO_STATUS_LOOKUP[status]))\n",
      "\u001b[1;31mPicoSDKCtypesError\u001b[0m: PicoSDK returned 'PICO_INVALID_HANDLE'"
     ]
    }
   ],
   "source": [
    "status[\"stop\"] = ps.ps4000aStop(chandle)\n",
    "assert_pico_ok(status[\"stop\"])\n",
    "status[\"close\"] = ps.ps4000aCloseUnit(chandle)\n",
    "assert_pico_ok(status[\"close\"])"
   ]
  },
  {
   "cell_type": "code",
   "execution_count": 8,
   "metadata": {},
   "outputs": [
    {
     "data": {
      "text/plain": [
       "[<matplotlib.lines.Line2D at 0x1b0a72fd6d0>]"
      ]
     },
     "execution_count": 8,
     "metadata": {},
     "output_type": "execute_result"
    },
    {
     "data": {
      "image/png": "[encoded data removed]",
      "text/plain": [
       "<Figure size 640x480 with 1 Axes>"
      ]
     },
     "metadata": {},
     "output_type": "display_data"
    }
   ],
   "source": [
    "import matplotlib.pyplot as plt\n",
    "\n",
    "plt.plot(bufferCompleteA)"
   ]
  },
  {
   "cell_type": "code",
   "execution_count": 3,
   "metadata": {},
   "outputs": [],
   "source": [
    "import h5py\n",
    "import numpy as np"
   ]
  },
  {
   "cell_type": "code",
   "execution_count": 9,
   "metadata": {},
   "outputs": [],
   "source": [
    "filename = \"C:/Users/yalem/OneDrive/Documents/Picoscope Tests/Pico Control/test.hdf5\"\n",
    "with h5py.File(filename, 'w') as f:\n",
    "    f['dataset'] = np.linspace(0, 100, 101)\n"
   ]
  },
  {
   "cell_type": "code",
   "execution_count": 10,
   "metadata": {},
   "outputs": [
    {
     "name": "stdout",
     "output_type": "stream",
     "text": [
      "[  0.   1.   2.   3.   4.   5.   6.   7.   8.   9.  10.  11.  12.  13.\n",
      "  14.  15.  16.  17.  18.  19.  20.  21.  22.  23.  24.  25.  26.  27.\n",
      "  28.  29.  30.  31.  32.  33.  34.  35.  36.  37.  38.  39.  40.  41.\n",
      "  42.  43.  44.  45.  46.  47.  48.  49.  50.  51.  52.  53.  54.  55.\n",
      "  56.  57.  58.  59.  60.  61.  62.  63.  64.  65.  66.  67.  68.  69.\n",
      "  70.  71.  72.  73.  74.  75.  76.  77.  78.  79.  80.  81.  82.  83.\n",
      "  84.  85.  86.  87.  88.  89.  90.  91.  92.  93.  94.  95.  96.  97.\n",
      "  98.  99. 100.]\n"
     ]
    }
   ],
   "source": [
    "with h5py.File(filename, 'r') as f:\n",
    "    print(np.array(f['dataset']))"
   ]
  },
  {
   "cell_type": "code",
   "execution_count": null,
   "metadata": {},
   "outputs": [],
   "source": []
  }
 ],
 "metadata": {
  "kernelspec": {
   "display_name": "Python 3",
   "language": "python",
   "name": "python3"
  },
  "language_info": {
   "codemirror_mode": {
    "name": "ipython",
    "version": 3
   },
   "file_extension": ".py",
   "mimetype": "text/x-python",
   "name": "python",
   "nbconvert_exporter": "python",
   "pygments_lexer": "ipython3",
   "version": "3.11.7"
  }
 },
 "nbformat": 4,
 "nbformat_minor": 2
}
