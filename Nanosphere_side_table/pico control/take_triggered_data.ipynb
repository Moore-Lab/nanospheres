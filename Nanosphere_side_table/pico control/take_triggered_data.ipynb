{
 "cells": [
  {
   "cell_type": "code",
   "execution_count": 16,
   "metadata": {},
   "outputs": [],
   "source": [
    "import ctypes, pickle, os, time\n",
    "import numpy as np\n",
    "import matplotlib.pyplot as plt\n",
    "import pico, sys\n",
    "import importlib\n"
   ]
  },
  {
   "cell_type": "code",
   "execution_count": 52,
   "metadata": {},
   "outputs": [],
   "source": [
    "#nwaveforms = 40000\n",
    "#trig_chan = 0\n",
    "#trig_lev = 1 ## volts\n",
    "\n",
    "importlib.reload(pico)\n",
    "\n",
    "nwaveforms = 300\n",
    "trig_chan = 0\n",
    "trig_lev = 0.5\n",
    "\n",
    "path = \"D:/Experiment/Radioactive loading/20250214/Flow_rate\"\n",
    "#filename = \"LED_data_vb_29V_30kHz_1.65Vpp_2.3Vdc_duty0.25.pkl\"\n",
    "filename = \"1.5turn_9.5mbar.pkl\"\n",
    "make_plot = False\n",
    "save_data = True"
   ]
  },
  {
   "cell_type": "code",
   "execution_count": 53,
   "metadata": {},
   "outputs": [
    {
     "name": "stdout",
     "output_type": "stream",
     "text": [
      "Working on file 0 of 1\n",
      "30.438178062438965\n",
      "{'openunit': 0, 'setChA': 0, 'trigger': 0, 'getTimebase2': 0, 'setMemorySegments': 0, 'SetNoOfCaptures': 0, 'setDataBufferA0': 0, 'setDataBufferA1': 0, 'setDataBufferA2': 0, 'setDataBufferA3': 0, 'setDataBufferA4': 0, 'setDataBufferA5': 0, 'setDataBufferA6': 0, 'setDataBufferA7': 0, 'setDataBufferA8': 0, 'setDataBufferA9': 0, 'setDataBufferA10': 0, 'setDataBufferA11': 0, 'setDataBufferA12': 0, 'setDataBufferA13': 0, 'setDataBufferA14': 0, 'setDataBufferA15': 0, 'setDataBufferA16': 0, 'setDataBufferA17': 0, 'setDataBufferA18': 0, 'setDataBufferA19': 0, 'setDataBufferA20': 0, 'setDataBufferA21': 0, 'setDataBufferA22': 0, 'setDataBufferA23': 0, 'setDataBufferA24': 0, 'setDataBufferA25': 0, 'setDataBufferA26': 0, 'setDataBufferA27': 0, 'setDataBufferA28': 0, 'setDataBufferA29': 0, 'setDataBufferA30': 0, 'setDataBufferA31': 0, 'setDataBufferA32': 0, 'setDataBufferA33': 0, 'setDataBufferA34': 0, 'setDataBufferA35': 0, 'setDataBufferA36': 0, 'setDataBufferA37': 0, 'setDataBufferA38': 0, 'setDataBufferA39': 0, 'setDataBufferA40': 0, 'setDataBufferA41': 0, 'setDataBufferA42': 0, 'setDataBufferA43': 0, 'setDataBufferA44': 0, 'setDataBufferA45': 0, 'setDataBufferA46': 0, 'setDataBufferA47': 0, 'setDataBufferA48': 0, 'setDataBufferA49': 0, 'setDataBufferA50': 0, 'setDataBufferA51': 0, 'setDataBufferA52': 0, 'setDataBufferA53': 0, 'setDataBufferA54': 0, 'setDataBufferA55': 0, 'setDataBufferA56': 0, 'setDataBufferA57': 0, 'setDataBufferA58': 0, 'setDataBufferA59': 0, 'setDataBufferA60': 0, 'setDataBufferA61': 0, 'setDataBufferA62': 0, 'setDataBufferA63': 0, 'setDataBufferA64': 0, 'setDataBufferA65': 0, 'setDataBufferA66': 0, 'setDataBufferA67': 0, 'setDataBufferA68': 0, 'setDataBufferA69': 0, 'setDataBufferA70': 0, 'setDataBufferA71': 0, 'setDataBufferA72': 0, 'setDataBufferA73': 0, 'setDataBufferA74': 0, 'setDataBufferA75': 0, 'setDataBufferA76': 0, 'setDataBufferA77': 0, 'setDataBufferA78': 0, 'setDataBufferA79': 0, 'setDataBufferA80': 0, 'setDataBufferA81': 0, 'setDataBufferA82': 0, 'setDataBufferA83': 0, 'setDataBufferA84': 0, 'setDataBufferA85': 0, 'setDataBufferA86': 0, 'setDataBufferA87': 0, 'setDataBufferA88': 0, 'setDataBufferA89': 0, 'setDataBufferA90': 0, 'setDataBufferA91': 0, 'setDataBufferA92': 0, 'setDataBufferA93': 0, 'setDataBufferA94': 0, 'setDataBufferA95': 0, 'setDataBufferA96': 0, 'setDataBufferA97': 0, 'setDataBufferA98': 0, 'setDataBufferA99': 0, 'setDataBufferA100': 0, 'setDataBufferA101': 0, 'setDataBufferA102': 0, 'setDataBufferA103': 0, 'setDataBufferA104': 0, 'setDataBufferA105': 0, 'setDataBufferA106': 0, 'setDataBufferA107': 0, 'setDataBufferA108': 0, 'setDataBufferA109': 0, 'setDataBufferA110': 0, 'setDataBufferA111': 0, 'setDataBufferA112': 0, 'setDataBufferA113': 0, 'setDataBufferA114': 0, 'setDataBufferA115': 0, 'setDataBufferA116': 0, 'setDataBufferA117': 0, 'setDataBufferA118': 0, 'setDataBufferA119': 0, 'setDataBufferA120': 0, 'setDataBufferA121': 0, 'setDataBufferA122': 0, 'setDataBufferA123': 0, 'setDataBufferA124': 0, 'setDataBufferA125': 0, 'setDataBufferA126': 0, 'setDataBufferA127': 0, 'setDataBufferA128': 0, 'setDataBufferA129': 0, 'setDataBufferA130': 0, 'setDataBufferA131': 0, 'setDataBufferA132': 0, 'setDataBufferA133': 0, 'setDataBufferA134': 0, 'setDataBufferA135': 0, 'setDataBufferA136': 0, 'setDataBufferA137': 0, 'setDataBufferA138': 0, 'setDataBufferA139': 0, 'setDataBufferA140': 0, 'setDataBufferA141': 0, 'setDataBufferA142': 0, 'setDataBufferA143': 0, 'setDataBufferA144': 0, 'setDataBufferA145': 0, 'setDataBufferA146': 0, 'setDataBufferA147': 0, 'setDataBufferA148': 0, 'setDataBufferA149': 0, 'setDataBufferA150': 0, 'setDataBufferA151': 0, 'setDataBufferA152': 0, 'setDataBufferA153': 0, 'setDataBufferA154': 0, 'setDataBufferA155': 0, 'setDataBufferA156': 0, 'setDataBufferA157': 0, 'setDataBufferA158': 0, 'setDataBufferA159': 0, 'setDataBufferA160': 0, 'setDataBufferA161': 0, 'setDataBufferA162': 0, 'setDataBufferA163': 0, 'setDataBufferA164': 0, 'setDataBufferA165': 0, 'setDataBufferA166': 0, 'setDataBufferA167': 0, 'setDataBufferA168': 0, 'setDataBufferA169': 0, 'setDataBufferA170': 0, 'setDataBufferA171': 0, 'setDataBufferA172': 0, 'setDataBufferA173': 0, 'setDataBufferA174': 0, 'setDataBufferA175': 0, 'setDataBufferA176': 0, 'setDataBufferA177': 0, 'setDataBufferA178': 0, 'setDataBufferA179': 0, 'setDataBufferA180': 0, 'setDataBufferA181': 0, 'setDataBufferA182': 0, 'setDataBufferA183': 0, 'setDataBufferA184': 0, 'setDataBufferA185': 0, 'setDataBufferA186': 0, 'setDataBufferA187': 0, 'setDataBufferA188': 0, 'setDataBufferA189': 0, 'setDataBufferA190': 0, 'setDataBufferA191': 0, 'setDataBufferA192': 0, 'setDataBufferA193': 0, 'setDataBufferA194': 0, 'setDataBufferA195': 0, 'setDataBufferA196': 0, 'setDataBufferA197': 0, 'setDataBufferA198': 0, 'setDataBufferA199': 0, 'setDataBufferA200': 0, 'setDataBufferA201': 0, 'setDataBufferA202': 0, 'setDataBufferA203': 0, 'setDataBufferA204': 0, 'setDataBufferA205': 0, 'setDataBufferA206': 0, 'setDataBufferA207': 0, 'setDataBufferA208': 0, 'setDataBufferA209': 0, 'setDataBufferA210': 0, 'setDataBufferA211': 0, 'setDataBufferA212': 0, 'setDataBufferA213': 0, 'setDataBufferA214': 0, 'setDataBufferA215': 0, 'setDataBufferA216': 0, 'setDataBufferA217': 0, 'setDataBufferA218': 0, 'setDataBufferA219': 0, 'setDataBufferA220': 0, 'setDataBufferA221': 0, 'setDataBufferA222': 0, 'setDataBufferA223': 0, 'setDataBufferA224': 0, 'setDataBufferA225': 0, 'setDataBufferA226': 0, 'setDataBufferA227': 0, 'setDataBufferA228': 0, 'setDataBufferA229': 0, 'setDataBufferA230': 0, 'setDataBufferA231': 0, 'setDataBufferA232': 0, 'setDataBufferA233': 0, 'setDataBufferA234': 0, 'setDataBufferA235': 0, 'setDataBufferA236': 0, 'setDataBufferA237': 0, 'setDataBufferA238': 0, 'setDataBufferA239': 0, 'setDataBufferA240': 0, 'setDataBufferA241': 0, 'setDataBufferA242': 0, 'setDataBufferA243': 0, 'setDataBufferA244': 0, 'setDataBufferA245': 0, 'setDataBufferA246': 0, 'setDataBufferA247': 0, 'setDataBufferA248': 0, 'setDataBufferA249': 0, 'setDataBufferA250': 0, 'setDataBufferA251': 0, 'setDataBufferA252': 0, 'setDataBufferA253': 0, 'setDataBufferA254': 0, 'setDataBufferA255': 0, 'setDataBufferA256': 0, 'setDataBufferA257': 0, 'setDataBufferA258': 0, 'setDataBufferA259': 0, 'setDataBufferA260': 0, 'setDataBufferA261': 0, 'setDataBufferA262': 0, 'setDataBufferA263': 0, 'setDataBufferA264': 0, 'setDataBufferA265': 0, 'setDataBufferA266': 0, 'setDataBufferA267': 0, 'setDataBufferA268': 0, 'setDataBufferA269': 0, 'setDataBufferA270': 0, 'setDataBufferA271': 0, 'setDataBufferA272': 0, 'setDataBufferA273': 0, 'setDataBufferA274': 0, 'setDataBufferA275': 0, 'setDataBufferA276': 0, 'setDataBufferA277': 0, 'setDataBufferA278': 0, 'setDataBufferA279': 0, 'setDataBufferA280': 0, 'setDataBufferA281': 0, 'setDataBufferA282': 0, 'setDataBufferA283': 0, 'setDataBufferA284': 0, 'setDataBufferA285': 0, 'setDataBufferA286': 0, 'setDataBufferA287': 0, 'setDataBufferA288': 0, 'setDataBufferA289': 0, 'setDataBufferA290': 0, 'setDataBufferA291': 0, 'setDataBufferA292': 0, 'setDataBufferA293': 0, 'setDataBufferA294': 0, 'setDataBufferA295': 0, 'setDataBufferA296': 0, 'setDataBufferA297': 0, 'setDataBufferA298': 0, 'setDataBufferA299': 0, 'runBlock': 0, 'isReady': 0, 'getValuesBulk': 0, 'stop': 0, 'close': 0}\n"
     ]
    }
   ],
   "source": [
    "pico.take_n_triggers(nwaveforms, trig_chan, trig_lev, path, filename, make_plot=make_plot, save_data=save_data)"
   ]
  },
  {
   "cell_type": "code",
   "execution_count": 5,
   "metadata": {},
   "outputs": [
    {
     "name": "stdout",
     "output_type": "stream",
     "text": [
      "Moving by dX, dY: -1.0 mm, -1.0mm\n"
     ]
    },
    {
     "data": {
      "text/plain": [
       "True"
      ]
     },
     "execution_count": 5,
     "metadata": {},
     "output_type": "execute_result"
    }
   ],
   "source": [
    "## move the stage where we want it to start\n",
    "sc.move_stage(-1,-1)"
   ]
  },
  {
   "cell_type": "code",
   "execution_count": null,
   "metadata": {},
   "outputs": [],
   "source": [
    "curr_pos = (-8, -8)\n",
    "pos_x = np.arange(-8, 9)\n",
    "pos_y = np.arange(-8, 9)\n",
    "\n",
    "num_retries = 10\n",
    "wait_time = 6\n",
    "\n",
    "for p_x in pos_x:\n",
    "    if(p_x % 2 == 0):\n",
    "        cpy = 1.0*pos_y\n",
    "    else:\n",
    "        cpy = 1.0*pos_y[::-1]\n",
    "    for p_y in cpy:\n",
    "\n",
    "        dx, dy = p_x-curr_pos[0], p_y - curr_pos[1]\n",
    "        print(\"Moving to: (x,y) = \", p_x, p_y, ', by: (dx, dy) =', dx, dy)\n",
    "\n",
    "        success = sc.move_stage(dx,dy)\n",
    "        time.sleep(wait_time)\n",
    "\n",
    "        if(not success):\n",
    "            for i in range(num_retries):\n",
    "                print(\"Retrying, attempt %d\"%i)\n",
    "                success = sc.move_stage(dx,dy)    \n",
    "                if(success):\n",
    "                    time.sleep(wait_time)\n",
    "                    break            \n",
    "        \n",
    "        if(success):\n",
    "            curr_pos = (p_x, p_y)\n",
    "\n",
    "        curr_file = \"Am241_vb_28V_bare_scint_x%.1f_y%.1f.pkl\"%curr_pos\n",
    "        pico.take_n_triggers(nwaveforms, trig_chan, trig_lev, path, curr_file, make_plot=make_plot, save_data=save_data)"
   ]
  },
  {
   "cell_type": "code",
   "execution_count": 1,
   "metadata": {},
   "outputs": [
    {
     "ename": "NameError",
     "evalue": "name 'curr_pos' is not defined",
     "output_type": "error",
     "traceback": [
      "\u001b[1;31m---------------------------------------------------------------------------\u001b[0m",
      "\u001b[1;31mNameError\u001b[0m                                 Traceback (most recent call last)",
      "Cell \u001b[1;32mIn[1], line 1\u001b[0m\n\u001b[1;32m----> 1\u001b[0m \u001b[43mcurr_pos\u001b[49m\n",
      "\u001b[1;31mNameError\u001b[0m: name 'curr_pos' is not defined"
     ]
    }
   ],
   "source": [
    "curr_pos"
   ]
  }
 ],
 "metadata": {
  "kernelspec": {
   "display_name": "microspheres",
   "language": "python",
   "name": "python3"
  },
  "language_info": {
   "codemirror_mode": {
    "name": "ipython",
    "version": 3
   },
   "file_extension": ".py",
   "mimetype": "text/x-python",
   "name": "python",
   "nbconvert_exporter": "python",
   "pygments_lexer": "ipython3",
   "version": "3.11.3"
  }
 },
 "nbformat": 4,
 "nbformat_minor": 2
}
