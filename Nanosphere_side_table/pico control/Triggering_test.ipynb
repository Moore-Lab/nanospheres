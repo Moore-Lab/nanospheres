{
 "cells": [
  {
   "cell_type": "code",
   "execution_count": 1,
   "metadata": {},
   "outputs": [],
   "source": [
    "import ctypes, pickle, os\n",
    "import numpy as np\n",
    "from picosdk.ps4000a import ps4000a as ps\n",
    "import matplotlib.pyplot as plt\n",
    "from picosdk.functions import adc2mV, assert_pico_ok\n",
    "import time as timepack"
   ]
  },
  {
   "cell_type": "code",
   "execution_count": 2,
   "metadata": {},
   "outputs": [
    {
     "name": "stdout",
     "output_type": "stream",
     "text": [
      "Working on file 0 of 1\n"
     ]
    }
   ],
   "source": [
    "nwaveforms_total = 5\n",
    "trig_chan = 0 \n",
    "trig_lev = 0.5\n",
    "path = \"D:/Experiment/Radioactive loading/20250206/Ortec tests\"\n",
    "filename = \"test.pkl\"\n",
    "make_plot = True\n",
    "save_data = False\n",
    "\n",
    "MAX_PER_FILE = 50000\n",
    "\n",
    "nfiles = int(nwaveforms_total/MAX_PER_FILE) + 1\n",
    "\n",
    "nwaveforms = int(np.min([nwaveforms_total, MAX_PER_FILE]))\n",
    "\n",
    "for nf in range(nfiles):\n",
    "\n",
    "    print(\"Working on file %d of %d\"%(nf, nfiles))\n",
    "    #\n",
    "    # Copyright (C) 2018 Pico Technology Ltd. See LICENSE file for terms.\n",
    "    #\n",
    "    # PS4824 BLOCK MODE EXAMPLE\n",
    "    # This example opens a 4000a driver device, sets up two channels and a trigger then collects a block of data.\n",
    "    # This data is then plotted as mV against time in ns.\n",
    "\n",
    "    # Create chandle and status ready for use\n",
    "    chandle = ctypes.c_int16()\n",
    "    status = {}\n",
    "\n",
    "    # Open 4000 series PicoScope\n",
    "    # Returns handle to chandle for use in future API functions\n",
    "    status[\"openunit\"] = ps.ps4000aOpenUnit(ctypes.byref(chandle), None)\n",
    "\n",
    "    try:\n",
    "        assert_pico_ok(status[\"openunit\"])\n",
    "    except:\n",
    "\n",
    "        powerStatus = status[\"openunit\"]\n",
    "\n",
    "        if powerStatus == 286:\n",
    "            status[\"changePowerSource\"] = ps.ps4000aChangePowerSource(chandle, powerStatus)\n",
    "        else:\n",
    "            raise\n",
    "\n",
    "        assert_pico_ok(status[\"changePowerSource\"])\n",
    "\n",
    "    # Set up channel A\n",
    "    # handle = chandle\n",
    "    # channel = PS4000a_CHANNEL_A = 0\n",
    "    # enabled = 1\n",
    "    # coupling type = PS4000a_DC = 1\n",
    "    # range = PS4000a_2V = 7\n",
    "    # analogOffset = 0 V\n",
    "    chARange = 7\n",
    "    status[\"setChA\"] = ps.ps4000aSetChannel(chandle, 0, 1, 1, chARange, 0)\n",
    "    assert_pico_ok(status[\"setChA\"])\n",
    "\n",
    "    # Set up channel B\n",
    "    # handle = chandle\n",
    "    # channel = PS4000a_CHANNEL_B = 1\n",
    "    # enabled = 1\n",
    "    # coupling type = PS4000a_DC = 1\n",
    "    # range = PS4000a_2V = 7\n",
    "    # analogOffset = 0 V\n",
    "    #chBRange = 5# 8\n",
    "    #status[\"setChB\"] = ps.ps4000aSetChannel(chandle, 1, 1, 1, chBRange, 0)\n",
    "    #assert_pico_ok(status[\"setChB\"])\n",
    "\n",
    "    # Set up channel C\n",
    "    # handle = chandle\n",
    "    # channel = PS4000a_CHANNEL_C = 2\n",
    "    # enabled = 1\n",
    "    # coupling type = PS4000a_DC = 1\n",
    "    # range = PS4000a_2V = 7\n",
    "    # analogOffset = 0 V\n",
    "    #chCRange = 8\n",
    "    #status[\"setChC\"] = ps.ps4000aSetChannel(chandle, 2, 0, 1, chCRange, 0)\n",
    "    #assert_pico_ok(status[\"setChC\"])\n",
    "\n",
    "\n",
    "    # Set up single trigger\n",
    "    # handle = chandle\n",
    "    # enabled = 1\n",
    "    # source = PS4000a_CHANNEL_A = 0\n",
    "    # threshold = 1024 ADC counts\n",
    "    # direction = PS4000a_RISING = 2\n",
    "    # delay = 0 s\n",
    "    # auto Trigger = 1000 ms\n",
    "    status[\"trigger\"] = ps.ps4000aSetSimpleTrigger(chandle, 1, trig_chan, int(trig_lev/1 * 2**14), 2, 0, 0)\n",
    "    assert_pico_ok(status[\"trigger\"])\n",
    "\n",
    "    # Set number of pre and post trigger samples to be collected\n",
    "    preTriggerSamples = 120\n",
    "    postTriggerSamples = 180\n",
    "    maxSamples = preTriggerSamples + postTriggerSamples\n",
    "\n",
    "    # Get timebase information\n",
    "    # WARNING: When using this example it may not be possible to access all Timebases as all channels are enabled by default when opening the scope.  \n",
    "    # To access these Timebases, set any unused analogue channels to off.\n",
    "    # handle = chandle\n",
    "    # timebase = 8 = timebase\n",
    "    # noSamples = maxSamples\n",
    "    # pointer to timeIntervalNanoseconds = ctypes.byref(timeIntervalns)\n",
    "    # pointer to maxSamples = ctypes.byref(returnedMaxSamples)\n",
    "    # segment index = 0\n",
    "    timebase = 1\n",
    "    timeIntervalns = ctypes.c_float()\n",
    "    returnedMaxSamples = ctypes.c_int32()\n",
    "    oversample = ctypes.c_int16(1)\n",
    "    status[\"getTimebase2\"] = ps.ps4000aGetTimebase2(chandle, timebase, maxSamples, ctypes.byref(timeIntervalns), ctypes.byref(returnedMaxSamples), 0)\n",
    "    assert_pico_ok(status[\"getTimebase2\"])\n",
    "\n",
    "    # Set memory segments\n",
    "    # handle = chandle\n",
    "    # nSegments = 10\n",
    "    nMaxSamples = ctypes.c_int32(0)\n",
    "    status[\"setMemorySegments\"] = ps.ps4000aMemorySegments(chandle, nwaveforms, ctypes.byref(nMaxSamples))\n",
    "    assert_pico_ok(status[\"setMemorySegments\"])\n",
    "\n",
    "    status[\"SetNoOfCaptures\"] = ps.ps4000aSetNoOfCaptures(chandle, nwaveforms)\n",
    "    assert_pico_ok(status[\"SetNoOfCaptures\"])\n",
    "\n",
    "    ## setup buffers\n",
    "    buffer_dict = {}\n",
    "    for j in range(nwaveforms):\n",
    "        \n",
    "        bufferA = (ctypes.c_int16 * maxSamples)()\n",
    "        #bufferB = (ctypes.c_int16 * maxSamples)()\n",
    "\n",
    "        buffer_dict[j] = [bufferA]#, bufferB]\n",
    "\n",
    "    for j in range(nwaveforms):\n",
    "        status[\"setDataBufferA\" + str(j)] = ps.ps4000aSetDataBuffer(chandle, 0, ctypes.byref(buffer_dict[j][0]), maxSamples, j, 0)\n",
    "        #status[\"setDataBufferB\" + str(j)] = ps.ps4000aSetDataBuffer(chandle, 1, ctypes.byref(buffer_dict[j][1]), maxSamples, j, 0)\n"
   ]
  },
  {
   "cell_type": "code",
   "execution_count": 3,
   "metadata": {},
   "outputs": [
    {
     "name": "stdout",
     "output_type": "stream",
     "text": [
      "0.5067272186279297\n"
     ]
    }
   ],
   "source": [
    "time_start = timepack.time()\n",
    "status[\"runBlock\"] = ps.ps4000aRunBlock(chandle, preTriggerSamples, postTriggerSamples, timebase, None, 0, None, None)\n",
    "assert_pico_ok(status[\"runBlock\"])\n",
    "\n",
    "# Check for data collection to finish using ps4000aIsReady\n",
    "ready = ctypes.c_int16(0)\n",
    "check = ctypes.c_int16(0)\n",
    "while ready.value == check.value:\n",
    "    status[\"isReady\"] = ps.ps4000aIsReady(chandle, ctypes.byref(ready))\n",
    "\n",
    "print(timepack.time()-time_start)"
   ]
  },
  {
   "cell_type": "code",
   "execution_count": 4,
   "metadata": {},
   "outputs": [],
   "source": [
    "triggerTimeOffset = (ctypes.c_int64*nwaveforms)()\n",
    "timeUnits = (ctypes.c_int16*nwaveforms)()\n",
    "\n",
    "# Retrieve the trigger time offset\n",
    "status[\"GetValuesTriggerTimeOffsetBulk64\"] = ps.ps4000aGetValuesTriggerTimeOffsetBulk64(chandle, ctypes.byref(triggerTimeOffset), ctypes.byref(timeUnits), 0, nwaveforms-1)\n",
    "assert_pico_ok(status[\"GetValuesTriggerTimeOffsetBulk64\"])"
   ]
  },
  {
   "cell_type": "code",
   "execution_count": 15,
   "metadata": {},
   "outputs": [
    {
     "name": "stdout",
     "output_type": "stream",
     "text": [
      "1.8543708e-08\n",
      "1.3973231000000001e-08\n",
      "1.9324245e-08\n",
      "1.6274146e-08\n",
      "2.0276040000000002e-08\n"
     ]
    }
   ],
   "source": [
    "for i in range(nwaveforms):\n",
    "    print(triggerTimeOffset[i]*10**(-15))"
   ]
  },
  {
   "cell_type": "code",
   "execution_count": 10,
   "metadata": {},
   "outputs": [
    {
     "ename": "PicoSDKCtypesError",
     "evalue": "PicoSDK returned 'PICO_INVALID_HANDLE'",
     "output_type": "error",
     "traceback": [
      "\u001b[1;31m---------------------------------------------------------------------------\u001b[0m",
      "\u001b[1;31mPicoSDKCtypesError\u001b[0m                        Traceback (most recent call last)",
      "Cell \u001b[1;32mIn[10], line 15\u001b[0m\n\u001b[0;32m      5\u001b[0m \u001b[38;5;66;03m# Retried data from scope to buffers assigned above\u001b[39;00m\n\u001b[0;32m      6\u001b[0m \u001b[38;5;66;03m# handle = chandle\u001b[39;00m\n\u001b[0;32m      7\u001b[0m \u001b[38;5;66;03m# start index = 0\u001b[39;00m\n\u001b[1;32m   (...)\u001b[0m\n\u001b[0;32m     12\u001b[0m \u001b[38;5;66;03m#status[\"getValues\"] = ps.ps4000aGetValues(chandle, 0, ctypes.byref(cmaxSamples), 0, 0, 0, ctypes.byref(overflow))\u001b[39;00m\n\u001b[0;32m     13\u001b[0m \u001b[38;5;66;03m#assert_pico_ok(status[\"getValues\"])\u001b[39;00m\n\u001b[0;32m     14\u001b[0m status[\u001b[38;5;124m\"\u001b[39m\u001b[38;5;124mgetValuesBulk\u001b[39m\u001b[38;5;124m\"\u001b[39m] \u001b[38;5;241m=\u001b[39m ps\u001b[38;5;241m.\u001b[39mps4000aGetValuesBulk(chandle, ctypes\u001b[38;5;241m.\u001b[39mbyref(cmaxSamples), \u001b[38;5;241m0\u001b[39m, nwaveforms\u001b[38;5;241m-\u001b[39m\u001b[38;5;241m1\u001b[39m, \u001b[38;5;241m1\u001b[39m, \u001b[38;5;241m0\u001b[39m, ctypes\u001b[38;5;241m.\u001b[39mbyref(overflow))\n\u001b[1;32m---> 15\u001b[0m assert_pico_ok(status[\u001b[38;5;124m\"\u001b[39m\u001b[38;5;124mgetValuesBulk\u001b[39m\u001b[38;5;124m\"\u001b[39m])\n",
      "File \u001b[1;32mc:\\Users\\microspheres\\anaconda3\\envs\\microspheres\\Lib\\site-packages\\picosdk\\functions.py:160\u001b[0m, in \u001b[0;36massert_pico_ok\u001b[1;34m(status)\u001b[0m\n\u001b[0;32m    158\u001b[0m \u001b[38;5;66;03m# checks for PICO_OK status return\u001b[39;00m\n\u001b[0;32m    159\u001b[0m \u001b[38;5;28;01mif\u001b[39;00m status \u001b[38;5;241m!=\u001b[39m PICO_STATUS[\u001b[38;5;124m'\u001b[39m\u001b[38;5;124mPICO_OK\u001b[39m\u001b[38;5;124m'\u001b[39m]:\n\u001b[1;32m--> 160\u001b[0m     \u001b[38;5;28;01mraise\u001b[39;00m PicoSDKCtypesError(\u001b[38;5;124m\"\u001b[39m\u001b[38;5;124mPicoSDK returned \u001b[39m\u001b[38;5;124m'\u001b[39m\u001b[38;5;132;01m{}\u001b[39;00m\u001b[38;5;124m'\u001b[39m\u001b[38;5;124m\"\u001b[39m\u001b[38;5;241m.\u001b[39mformat(PICO_STATUS_LOOKUP[status]))\n",
      "\u001b[1;31mPicoSDKCtypesError\u001b[0m: PicoSDK returned 'PICO_INVALID_HANDLE'"
     ]
    }
   ],
   "source": [
    "overflow = (ctypes.c_int16 * nwaveforms)()\n",
    "# Creates converted types maxsamples\n",
    "cmaxSamples = ctypes.c_int32(maxSamples)\n",
    "\n",
    "# Retried data from scope to buffers assigned above\n",
    "# handle = chandle\n",
    "# start index = 0\n",
    "# pointer to number of samples = ctypes.byref(cmaxSamples)\n",
    "# downsample ratio = 0\n",
    "# downsample ratio mode = PS4000a_RATIO_MODE_NONE\n",
    "# pointer to overflow = ctypes.byref(overflow))\n",
    "#status[\"getValues\"] = ps.ps4000aGetValues(chandle, 0, ctypes.byref(cmaxSamples), 0, 0, 0, ctypes.byref(overflow))\n",
    "#assert_pico_ok(status[\"getValues\"])\n",
    "status[\"getValuesBulk\"] = ps.ps4000aGetValuesBulk(chandle, ctypes.byref(cmaxSamples), 0, nwaveforms-1, 1, 0, ctypes.byref(overflow))\n",
    "assert_pico_ok(status[\"getValuesBulk\"])\n"
   ]
  },
  {
   "cell_type": "code",
   "execution_count": 9,
   "metadata": {},
   "outputs": [
    {
     "data": {
      "text/plain": [
       "300"
      ]
     },
     "execution_count": 9,
     "metadata": {},
     "output_type": "execute_result"
    }
   ],
   "source": [
    "maxSamples"
   ]
  },
  {
   "cell_type": "code",
   "execution_count": 16,
   "metadata": {},
   "outputs": [
    {
     "name": "stdout",
     "output_type": "stream",
     "text": [
      "{'openunit': 0, 'setChA': 0, 'trigger': 0, 'getTimebase2': 0, 'setMemorySegments': 0, 'SetNoOfCaptures': 0, 'setDataBufferA0': 0, 'setDataBufferA1': 0, 'setDataBufferA2': 0, 'setDataBufferA3': 0, 'setDataBufferA4': 0, 'runBlock': 0, 'isReady': 0, 'GetValuesTriggerTimeOffsetBulk64': 0, 'stop': 0, 'close': 0}\n"
     ]
    }
   ],
   "source": [
    "status[\"stop\"] = ps.ps4000aStop(chandle)\n",
    "assert_pico_ok(status[\"stop\"])\n",
    "\n",
    "# Close unitDisconnect the scope\n",
    "# handle = chandle\n",
    "status[\"close\"] = ps.ps4000aCloseUnit(chandle)\n",
    "assert_pico_ok(status[\"close\"])\n",
    "\n",
    "# display status returns\n",
    "print(status)"
   ]
  },
  {
   "cell_type": "code",
   "execution_count": null,
   "metadata": {},
   "outputs": [],
   "source": []
  }
 ],
 "metadata": {
  "kernelspec": {
   "display_name": "microspheres",
   "language": "python",
   "name": "python3"
  },
  "language_info": {
   "codemirror_mode": {
    "name": "ipython",
    "version": 3
   },
   "file_extension": ".py",
   "mimetype": "text/x-python",
   "name": "python",
   "nbconvert_exporter": "python",
   "pygments_lexer": "ipython3",
   "version": "3.11.3"
  }
 },
 "nbformat": 4,
 "nbformat_minor": 2
}
